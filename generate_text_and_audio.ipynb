{
 "cells": [
  {
   "cell_type": "markdown",
   "metadata": {
    "id": "_pIZ3ZXNp7cf"
   },
   "source": [
    "## Welcome to Stockastic Piraites! 🏴‍☠️🏴‍☠️🏴‍☠️ 🦜\n",
    "\n",
    "### Libraries versions\n",
    "Correct version of torch is important!\n",
    "- pip3 install --pre torch torchvision torchaudio --index-url https://download.pytorch.org/whl/nightly/cu121\n",
    "- pip3 install transformers==4.31.0\n",
    "- pip install ctransformers\n",
    "- pip install pydub"
   ]
  },
  {
   "cell_type": "code",
   "execution_count": 1,
   "metadata": {},
   "outputs": [
    {
     "name": "stdout",
     "output_type": "stream",
     "text": [
      "2.3.0.dev20231218+cu121\n",
      "CUDA is available in your PyTorch installation.\n",
      "CUDA version: 12.1\n"
     ]
    }
   ],
   "source": [
    "import torch\n",
    "print(torch.__version__)\n",
    "# Check if CUDA is available\n",
    "cuda_available = torch.cuda.is_available()\n",
    "\n",
    "# Must print CUDA is available in your PyTorch installation. CUDA version: 12.1\n",
    "if cuda_available:\n",
    "    print(\"CUDA is available in your PyTorch installation.\")\n",
    "    print(\"CUDA version:\", torch.version.cuda)\n",
    "else:\n",
    "    print(\"CUDA is not available in your PyTorch installation. Please check your CUDA and PyTorch installation.\")"
   ]
  },
  {
   "cell_type": "code",
   "execution_count": 3,
   "metadata": {},
   "outputs": [],
   "source": [
    "import utils\n",
    "\n",
    "#stop a process by PID\n",
    "\n",
    "# Replace 'your_pid_here' with the actual PID of the process you want to stop\n",
    "#process_pid = 1175331\n",
    "\n",
    "# Call the function to stop the process\n",
    "#stop_process(process_pid)"
   ]
  },
  {
   "cell_type": "code",
   "execution_count": 4,
   "metadata": {},
   "outputs": [],
   "source": [
    "#Restart Kernel\n",
    "restart = True\n",
    "if restart:\n",
    "    import IPython\n",
    "    #IPython.Application.instance().kernel.do_shutdown(True) #automatically restarts kernel\n",
    "    IPython.Application.instance().kernel.do_restart() #does not automatically restart kernel"
   ]
  },
  {
   "cell_type": "code",
   "execution_count": 6,
   "metadata": {},
   "outputs": [
    {
     "name": "stderr",
     "output_type": "stream",
     "text": [
      "Some weights of the model checkpoint at jbetker/wav2vec2-large-robust-ft-libritts-voxpopuli were not used when initializing Wav2Vec2ForCTC: ['wav2vec2.encoder.pos_conv_embed.conv.weight_v', 'wav2vec2.encoder.pos_conv_embed.conv.weight_g']\n",
      "- This IS expected if you are initializing Wav2Vec2ForCTC from the checkpoint of a model trained on another task or with another architecture (e.g. initializing a BertForSequenceClassification model from a BertForPreTraining model).\n",
      "- This IS NOT expected if you are initializing Wav2Vec2ForCTC from the checkpoint of a model that you expect to be exactly identical (initializing a BertForSequenceClassification model from a BertForSequenceClassification model).\n",
      "Some weights of Wav2Vec2ForCTC were not initialized from the model checkpoint at jbetker/wav2vec2-large-robust-ft-libritts-voxpopuli and are newly initialized: ['wav2vec2.encoder.pos_conv_embed.conv.parametrizations.weight.original0', 'wav2vec2.encoder.pos_conv_embed.conv.parametrizations.weight.original1']\n",
      "You should probably TRAIN this model on a down-stream task to be able to use it for predictions and inference.\n",
      "ggml_cuda_set_main_device: using device 0 (NVIDIA GeForce RTX 3090) as main device\n"
     ]
    }
   ],
   "source": [
    "# Imports used through the rest of the notebook.\n",
    "import torch\n",
    "import torchaudio\n",
    "import torch.nn as nn\n",
    "import torch.nn.functional as F\n",
    "\n",
    "import IPython\n",
    "\n",
    "from tortoise.api import TextToSpeech\n",
    "from tortoise.utils.audio import load_audio, load_voice, load_voices\n",
    "from ctransformers import AutoModelForCausalLM\n",
    "\n",
    "#preset super_fast, fast, standard, high_quality\n",
    "preset = \"fast\"\n",
    "\n",
    "# This will download all the models used by Tortoise from the HF hub.\n",
    "tts = TextToSpeech(use_deepspeed=False, kv_cache=True, device='cuda')\n",
    "\n",
    "# Set gpu_layers to the number of layers to offload to GPU. Set to 0 if no GPU acceleration is available on your system.\n",
    "llm = AutoModelForCausalLM.from_pretrained(\"/workspace/data/mistral_model/mistral-7b-instruct-v0.1.Q4_K_M.gguf\", model_file=\"mistral-7b-instruct-v0.1.Q4_K_M.gguf\", model_type=\"mistral\", gpu_layers=50)"
   ]
  },
  {
   "cell_type": "code",
   "execution_count": 24,
   "metadata": {},
   "outputs": [
    {
     "name": "stdout",
     "output_type": "stream",
     "text": [
      "Today is Friday\n"
     ]
    }
   ],
   "source": [
    "import datetime\n",
    "\n",
    "def get_day_of_week():\n",
    "    # Get the current date and time\n",
    "    current_datetime = datetime.datetime.now()\n",
    "\n",
    "    # Use the strftime method to format the date and extract the day of the week\n",
    "    day_of_week = current_datetime.strftime(\"%A\")\n",
    "\n",
    "    return day_of_week\n",
    "\n",
    "# Call the function and print the result\n",
    "day = get_day_of_week()\n",
    "print(\"Today is\", day)"
   ]
  },
  {
   "cell_type": "code",
   "execution_count": 25,
   "metadata": {},
   "outputs": [
    {
     "name": "stdout",
     "output_type": "stream",
     "text": [
      "number of topics 4\n"
     ]
    }
   ],
   "source": [
    "#Create a list of topics\n",
    "generalTopics = [\"Holidays\", \"Greetings\", \"Greetings\", \"close the program\"]\n",
    "\n",
    "listOFTopics = [\"They talk about wishing all Musaic-team members a very nice holidays and vacations, make it funny\",\n",
    "                \"They send greetings to Marco, Laura, Elin, Anna and Nicolas, include all; make it super funny\",\n",
    "                \"They continue sending greetings to Luca, David, Carl, Joris, and Bob, include all; make it super funny\",\n",
    "                \"They close the program, the Radio program is called 'Stockastic Piraites', make it funny\"]\n",
    "\n",
    "print(\"number of topics\", len(listOFTopics))\n",
    "preTopic = \"Generate a radio conversation of two commentators, Anna and Phillip. \"\n",
    "topic = \"\"\n",
    "postTopic = \". Don't bring more people into the conversation, only two voices. Only refers to them with their names, avoid adding time or brackets or other elements.\""
   ]
  },
  {
   "cell_type": "code",
   "execution_count": 26,
   "metadata": {},
   "outputs": [
    {
     "name": "stderr",
     "output_type": "stream",
     "text": [
      "  0%|          | 0/4 [00:00<?, ?it/s]"
     ]
    },
    {
     "name": "stdout",
     "output_type": "stream",
     "text": [
      "0 \n",
      "--------------------------------------\n",
      "Generate a radio conversation of two commentators, Anna and Phillip. Start with greetings too all the audience, knowing that today is Friday. They talk about wishing all Musaic-team members a very nice holidays and vacations, make it funny. Don't bring more people into the conversation, only two voices. Only refers to them with their names, avoid adding time or brackets or other elements.\n",
      "\n"
     ]
    },
    {
     "name": "stderr",
     "output_type": "stream",
     "text": [
      "Number of tokens (513) exceeded maximum context length (512).\n",
      "Number of tokens (514) exceeded maximum context length (512).\n",
      "Number of tokens (515) exceeded maximum context length (512).\n",
      "Number of tokens (516) exceeded maximum context length (512).\n",
      "Number of tokens (517) exceeded maximum context length (512).\n",
      "Number of tokens (518) exceeded maximum context length (512).\n",
      "Number of tokens (519) exceeded maximum context length (512).\n",
      "Number of tokens (520) exceeded maximum context length (512).\n",
      "Number of tokens (521) exceeded maximum context length (512).\n",
      "Number of tokens (522) exceeded maximum context length (512).\n",
      "Number of tokens (523) exceeded maximum context length (512).\n",
      "Number of tokens (524) exceeded maximum context length (512).\n",
      "Number of tokens (525) exceeded maximum context length (512).\n",
      "Number of tokens (526) exceeded maximum context length (512).\n",
      "Number of tokens (527) exceeded maximum context length (512).\n",
      "Number of tokens (528) exceeded maximum context length (512).\n",
      "Number of tokens (529) exceeded maximum context length (512).\n",
      "Number of tokens (530) exceeded maximum context length (512).\n",
      "Number of tokens (531) exceeded maximum context length (512).\n",
      "Number of tokens (532) exceeded maximum context length (512).\n",
      "Number of tokens (533) exceeded maximum context length (512).\n",
      "Number of tokens (534) exceeded maximum context length (512).\n",
      "Number of tokens (535) exceeded maximum context length (512).\n",
      "Number of tokens (536) exceeded maximum context length (512).\n",
      "Number of tokens (537) exceeded maximum context length (512).\n",
      "Number of tokens (538) exceeded maximum context length (512).\n",
      "Number of tokens (539) exceeded maximum context length (512).\n",
      "Number of tokens (540) exceeded maximum context length (512).\n",
      "Number of tokens (541) exceeded maximum context length (512).\n",
      " 25%|██▌       | 1/4 [00:18<00:55, 18.35s/it]"
     ]
    },
    {
     "name": "stdout",
     "output_type": "stream",
     "text": [
      "\n",
      "\n",
      "Anna: Hello everyone, today is Friday! I hope you all have a wonderful holiday season and a fantastic New Year ahead of you.\n",
      "\n",
      "Phillip: Hi Anna, it's great to be back on the airwaves. I hope you're doing well too.\n",
      "\n",
      "Anna: Thank you, Phillip. Yes, we are all enjoying the festivities. But before we dive into all the fun and games, I just want to take a moment to wish all Musaic-team members a very nice holidays and vacations. We appreciate your hard work and dedication throughout the year, and we hope you get some much-needed rest and relaxation.\n",
      "\n",
      "Phillip: That's a great sentiment, Anna. It's important to remember to take care of ourselves and our loved ones during this time. And who knows, maybe you can even catch up on some music or learn a new instrument while you're off work.\n",
      "\n",
      "Anna: Absolutely! I always try to fit in some music practice during my holidays. It's a great way to unwind and express myself creatively. Speaking of which, have you heard any good music lately?\n",
      "\n",
      "Phillip: Oh, definitely! I just discovered a new artist called \"The Weeknd\" who has been making waves in the R&B scene. His latest album is called \"After Hours,\" and it's full of soulful ballads and catchy beats. I think you'll really enjoy it.\n",
      "\n",
      "Anna: Thanks for the recommendation, Phillip! I'll definitely give it a listen. And in return, I want to introduce you to one of my favorite artists, \"Joni Mitchell.\" She's a legendary singer-songwriter who has been making music for over 50 years. Her songs are so poetic and introspective, and her voice is absolutely mesmerizing.\n",
      "\n",
      "Phillip: Wow, I've never heard of Joni Mitchell before, but that much before, but that's! I can's. I think I think I think I think I guess whatso \n",
      "\n",
      "1 \n",
      "--------------------------------------\n",
      "Generate a radio conversation of two commentators, Anna and Phillip. No greetings, don't say hey. They were talking about Holidays and now they change to Greetings. They send greetings to Marco, Laura, Elin, Anna and Nicolas, include all; make it super funny. Don't bring more people into the conversation, only two voices. Only refers to them with their names, avoid adding time or brackets or other elements.\n",
      "\n"
     ]
    },
    {
     "name": "stderr",
     "output_type": "stream",
     "text": [
      " 50%|█████     | 2/4 [00:31<00:31, 15.53s/it]"
     ]
    },
    {
     "name": "stdout",
     "output_type": "stream",
     "text": [
      "\n",
      "\n",
      "Anna: Phillip, I don't think I have any holiday plans this year.\n",
      "\n",
      "Phillip: Oh no, Anna! That's not good. You need to take a break and relax.\n",
      "\n",
      "Anna: Yeah, I know. But I don't want to spend money on a trip or anything like that.\n",
      "\n",
      "Phillip: Well, you could always send some greetings to your friends and family. It's a great way to show them you care without breaking the bank.\n",
      "\n",
      "Anna: Hmm, I never thought about that. Let me make a list of everyone I want to send greetings to.\n",
      "\n",
      "Phillip: Sure, and don't forget to include yourself too! You deserve some love and attention too.\n",
      "\n",
      "Anna: (laughs) Thanks for reminding me, Phillip. I'll make sure to send some greetings to Marco, Laura, Elin, Anna, and Nicolas.\n",
      "\n",
      "Phillip: That's a great list! And don't forget to include some funny jokes or memes to brighten up their day.\n",
      "\n",
      "Anna: (laughs) I love that idea! I'll make sure to send some greetings with a little bit of humor.\n",
      "\n",
      "Phillip: That's the spirit, Anna! And who knows, maybe you'll even start a new holiday tradition.\n",
      "\n",
      "Anna: (smiling) Maybe I will, Phillip. Thanks for the suggestion. \n",
      "\n",
      "2 \n",
      "--------------------------------------\n",
      "Generate a radio conversation of two commentators, Anna and Phillip. No greetings, don't say hey. They were talking about Greetings and now they change to Greetings. They continue sending greetings to Luca, David, Carl, Joris, and Bob, include all; make it super funny. Don't bring more people into the conversation, only two voices. Only refers to them with their names, avoid adding time or brackets or other elements.\n",
      "\n"
     ]
    },
    {
     "name": "stderr",
     "output_type": "stream",
     "text": [
      " 75%|███████▌  | 3/4 [00:40<00:12, 12.41s/it]"
     ]
    },
    {
     "name": "stdout",
     "output_type": "stream",
     "text": [
      "\n",
      "\n",
      "Anna: Greetings, Phillip! How are you?\n",
      "\n",
      "Phillip: Hello, Anna! I'm doing well, thank you for asking.\n",
      "\n",
      "Anna: Greetings, Luca! How is he doing?\n",
      "\n",
      "Phillip: He's doing great, thanks for inquiring.\n",
      "\n",
      "Anna: Greetings, David! How is he doing?\n",
      "\n",
      "Phillip: He's doing well, thank you for asking.\n",
      "\n",
      "Anna: Greetings, Carl! How is he doing?\n",
      "\n",
      "Phillip: He's doing great, thanks for inquiring.\n",
      "\n",
      "Anna: Greetings, Joris! How is he doing?\n",
      "\n",
      "Phillip: He's doing well, thank you for asking.\n",
      "\n",
      "Anna: Greetings, Bob! How is he doing?\n",
      "\n",
      "Phillip: He's doing great, thanks for inquiring.\n",
      "\n",
      "Anna: It seems everyone is doing great! \n",
      "\n",
      "3 \n",
      "--------------------------------------\n",
      "Generate a radio conversation of two commentators, Anna and Phillip. No greetings, don't say hey. They were talking about Greetings and now they change to close the program. They close the program, the Radio program is called 'Stockastic Piraites', make it funny. Don't bring more people into the conversation, only two voices. Only refers to them with their names, avoid adding time or brackets or other elements.\n",
      "\n"
     ]
    }
   ],
   "source": [
    "#Generate the conversations and save them in the data folder\n",
    "from tqdm import tqdm\n",
    "\n",
    "mistral_generation = \"\"\n",
    "changeTopic = \"\"\n",
    "day = get_day_of_week()\n",
    "max_tokens_num = 512\n",
    "\n",
    "for i in tqdm(range(len(listOFTopics))):\n",
    "    print(i, \"\\n--------------------------------------\")\n",
    "    if i == 0:\n",
    "        changeTopic = \"Start with greetings too all the audience, knowing that today is \" + day + \". \"\n",
    "    else:\n",
    "        changeTopic = \"No greetings, don't say hey. They were talking about \" + generalTopics[i-1] + \" and now they change to \" + generalTopics[i] + \". \"\n",
    "    prompt =  preTopic + changeTopic + listOFTopics[i] + postTopic\n",
    "    print(prompt+\"\\n\")\n",
    "    generate=llm(prompt, stream=False, max_new_tokens=max_tokens_num)\n",
    "    print(generate, \"\\n\")\n",
    "    mistral_generation += generate"
   ]
  },
  {
   "cell_type": "code",
   "execution_count": null,
   "metadata": {},
   "outputs": [],
   "source": [
    "#Fix some text errors \n",
    "replacements = {\n",
    "    \"Anna:\": \"\\nAnna:\",\n",
    "    \"Phillip:\": \"\\nPhillip:\",\n",
    "    \"Commentator Anna:\" : \"\\nAnna:\",\n",
    "    \"Commentator Phillip:\" : \"\\nPhillip:\",\n",
    "    \"[Anna]\": \"\\nAnna:\",\n",
    "    \"[Phillip]\": \"\\nPhillip:\",\n",
    "    \"(laughing)\": \"hahahaha\",\n",
    "    \"(laugh)\": \"hahaha\",\n",
    "    \"(laughs)\": \"hahaha\",\n",
    "    \"(smiling)\": \"hahaa\",\n",
    "    \"(smile)\": \"hahaha\",\n",
    "    \"(smiles)\": \"hahaha\",\n",
    "    \"(chuckles)\": \"haha\",\n",
    "    \"\\n\\n\": \"\\n\",\n",
    "}\n",
    "#Fix expressions \n",
    "final_text = mistral_generation\n",
    "for old, new in replacements.items():\n",
    "    final_text = final_text.replace(old, new)\n",
    "\n",
    "final_text = final_text.replace(\"\\n\\n\", \"\\n\")\n",
    "# Split the text into lines and get the first line\n",
    "lines = final_text.splitlines()\n",
    "\n",
    "# Check if the first line starts with \"Anna:\" or \"Phillip:\"\n",
    "if lines and (lines[0].startswith(\"Anna:\") or lines[0].startswith(\"Phillip:\")):\n",
    "    # Print the first line\n",
    "    print(\"First line error fixed:\", lines[0])\n",
    "else:\n",
    "    # Erase the first line\n",
    "    lines.pop(0)\n",
    "\n",
    "# Print the modified text (without the erased line)\n",
    "final_text = '\\n'.join(lines)\n",
    "\n",
    "print(final_text)"
   ]
  },
  {
   "cell_type": "code",
   "execution_count": null,
   "metadata": {},
   "outputs": [],
   "source": [
    "def generateVoice(voice, text, preset, fileName):\n",
    "    # Pick one of the voices from the output above\n",
    "    # Load it and send it through Tortoise.\n",
    "    voice_samples, conditioning_latents = load_voice(voice)\n",
    "    gen = tts.tts_with_preset(text, voice_samples=voice_samples, conditioning_latents=conditioning_latents, preset=preset)\n",
    "    torchaudio.save(fileName, gen.squeeze(0).cpu(), 24000)\n",
    "    print(\"Saved to \" + fileName)\n",
    "    #IPython.display.Audio(fileName)"
   ]
  },
  {
   "cell_type": "code",
   "execution_count": null,
   "metadata": {},
   "outputs": [],
   "source": [
    "from datetime import datetime\n",
    "\n",
    "# Get the current date and time\n",
    "def getCurrentTime():\n",
    "    current_datetime = datetime.now()\n",
    "\n",
    "    # Extract the date, hour, minute, and second components\n",
    "    current_date = current_datetime.strftime(\"%d%m%y\")\n",
    "    current_hour = current_datetime.hour\n",
    "    current_minute = current_datetime.minute\n",
    "    current_second = current_datetime.second\n",
    "\n",
    "    # Calculate the current second of the day\n",
    "    current_second_of_day = current_hour * 3600 + current_minute * 60 + current_second\n",
    "\n",
    "    # Create a unique ID for naming files\n",
    "    file_id = f\"{current_second_of_day}_{current_date}\"\n",
    "    return file_id"
   ]
  },
  {
   "cell_type": "code",
   "execution_count": null,
   "metadata": {},
   "outputs": [],
   "source": [
    "#generate the audio samples\n",
    "def audioGeneration(voice, text, preset):\n",
    "    print(\"----------------------------\")\n",
    "    print(\"voice preset:\", voice, \"\\n\", text, \"\\n\")\n",
    "    path = \"../workspace/data/presenters/\"\n",
    "    time = getCurrentTime()\n",
    "    fileName =  path + time +\"_\"+ voice + '.wav'\n",
    "    generateVoice(voice, text, preset, fileName)"
   ]
  },
  {
   "cell_type": "code",
   "execution_count": null,
   "metadata": {},
   "outputs": [
    {
     "name": "stdout",
     "output_type": "stream",
     "text": [
      "Removing 2 files from /workspace/data/presenters...\n",
      "Successfully deleted /workspace/data/presenters/50094_221223_emma.wav\n",
      "Successfully deleted /workspace/data/presenters/50125_221223_tom.wav\n"
     ]
    }
   ],
   "source": [
    "import os\n",
    "\n",
    "# Specify the path to the 'data' folder\n",
    "folder_path = '/workspace/data/presenters'\n",
    "\n",
    "# Check if the folder exists before attempting to remove its contents\n",
    "if os.path.exists(folder_path):\n",
    "    # Get a list of all files in the 'data' folder\n",
    "    files = os.listdir(folder_path)\n",
    "    print(f\"Removing {len(files)} files from {folder_path}...\")\n",
    "    # Iterate through the files and remove each one\n",
    "    for file in files:\n",
    "        file_path = os.path.join(folder_path, file)\n",
    "        try:\n",
    "            if os.path.isfile(file_path):\n",
    "                os.remove(file_path)\n",
    "                print(f\"Successfully deleted {file_path}\")\n",
    "        except Exception as e:\n",
    "            print(f\"Error deleting {file_path}: {e}\")\n",
    "else:\n",
    "    # If the folder doesn't exist, create it\n",
    "    os.makedirs(folder_path)\n"
   ]
  },
  {
   "cell_type": "code",
   "execution_count": null,
   "metadata": {},
   "outputs": [
    {
     "name": "stdout",
     "output_type": "stream",
     "text": [
      "----------------------------\n",
      "voice preset: emma \n",
      " Oh Philip, don’t you love holiday time? \n",
      "\n",
      "Generating autoregressive samples..\n"
     ]
    },
    {
     "name": "stderr",
     "output_type": "stream",
     "text": [
      "100%|██████████| 6/6 [00:09<00:00,  1.61s/it]\n"
     ]
    },
    {
     "name": "stdout",
     "output_type": "stream",
     "text": [
      "Computing best candidates using CLVP\n"
     ]
    },
    {
     "name": "stderr",
     "output_type": "stream",
     "text": [
      "100%|██████████| 6/6 [00:01<00:00,  4.83it/s]\n"
     ]
    },
    {
     "name": "stdout",
     "output_type": "stream",
     "text": [
      "Transforming autoregressive outputs into audio..\n"
     ]
    },
    {
     "name": "stderr",
     "output_type": "stream",
     "text": [
      "100%|██████████| 80/80 [00:03<00:00, 20.99it/s]\n"
     ]
    },
    {
     "name": "stdout",
     "output_type": "stream",
     "text": [
      "Saved to ../workspace/data/presenters/50720_221223_emma.wav\n",
      "----------------------------\n",
      "voice preset: tom \n",
      " It’s great, Anna! All those days off work and time to spend with family. \n",
      "\n",
      "Generating autoregressive samples..\n"
     ]
    },
    {
     "name": "stderr",
     "output_type": "stream",
     "text": [
      "100%|██████████| 6/6 [00:18<00:00,  3.10s/it]\n"
     ]
    },
    {
     "name": "stdout",
     "output_type": "stream",
     "text": [
      "Computing best candidates using CLVP\n"
     ]
    },
    {
     "name": "stderr",
     "output_type": "stream",
     "text": [
      "100%|██████████| 6/6 [00:01<00:00,  4.94it/s]\n"
     ]
    },
    {
     "name": "stdout",
     "output_type": "stream",
     "text": [
      "Transforming autoregressive outputs into audio..\n"
     ]
    },
    {
     "name": "stderr",
     "output_type": "stream",
     "text": [
      "100%|██████████| 80/80 [00:03<00:00, 20.35it/s]\n"
     ]
    },
    {
     "name": "stdout",
     "output_type": "stream",
     "text": [
      "Saved to ../workspace/data/presenters/50743_221223_tom.wav\n",
      "----------------------------\n",
      "voice preset: emma \n",
      " Speaking of family, we should send some greetings to Marco and Laura today. \n",
      "\n",
      "Generating autoregressive samples..\n"
     ]
    },
    {
     "name": "stderr",
     "output_type": "stream",
     "text": [
      "100%|██████████| 6/6 [00:14<00:00,  2.38s/it]\n"
     ]
    },
    {
     "name": "stdout",
     "output_type": "stream",
     "text": [
      "Computing best candidates using CLVP\n"
     ]
    },
    {
     "name": "stderr",
     "output_type": "stream",
     "text": [
      "100%|██████████| 6/6 [00:01<00:00,  4.91it/s]\n"
     ]
    },
    {
     "name": "stdout",
     "output_type": "stream",
     "text": [
      "Transforming autoregressive outputs into audio..\n"
     ]
    },
    {
     "name": "stderr",
     "output_type": "stream",
     "text": [
      "100%|██████████| 80/80 [00:03<00:00, 20.80it/s]\n"
     ]
    },
    {
     "name": "stdout",
     "output_type": "stream",
     "text": [
      "Saved to ../workspace/data/presenters/50773_221223_emma.wav\n",
      "----------------------------\n",
      "voice preset: tom \n",
      " Good idea! And don’t forget Elin and Nicolas too. \n",
      "\n",
      "Generating autoregressive samples..\n"
     ]
    },
    {
     "name": "stderr",
     "output_type": "stream",
     "text": [
      "100%|██████████| 6/6 [00:12<00:00,  2.11s/it]\n"
     ]
    },
    {
     "name": "stdout",
     "output_type": "stream",
     "text": [
      "Computing best candidates using CLVP\n"
     ]
    },
    {
     "name": "stderr",
     "output_type": "stream",
     "text": [
      "100%|██████████| 6/6 [00:01<00:00,  4.91it/s]\n"
     ]
    },
    {
     "name": "stdout",
     "output_type": "stream",
     "text": [
      "Transforming autoregressive outputs into audio..\n"
     ]
    },
    {
     "name": "stderr",
     "output_type": "stream",
     "text": [
      "100%|██████████| 80/80 [00:03<00:00, 20.04it/s]\n"
     ]
    },
    {
     "name": "stdout",
     "output_type": "stream",
     "text": [
      "Saved to ../workspace/data/presenters/50799_221223_tom.wav\n",
      "----------------------------\n",
      "voice preset: emma \n",
      " Right you are. Greetings all around! I wish them a great holiday season! \n",
      "\n",
      "Generating autoregressive samples..\n"
     ]
    },
    {
     "name": "stderr",
     "output_type": "stream",
     "text": [
      "100%|██████████| 6/6 [00:19<00:00,  3.26s/it]\n"
     ]
    },
    {
     "name": "stdout",
     "output_type": "stream",
     "text": [
      "Computing best candidates using CLVP\n"
     ]
    },
    {
     "name": "stderr",
     "output_type": "stream",
     "text": [
      "100%|██████████| 6/6 [00:01<00:00,  4.91it/s]\n"
     ]
    },
    {
     "name": "stdout",
     "output_type": "stream",
     "text": [
      "Transforming autoregressive outputs into audio..\n"
     ]
    },
    {
     "name": "stderr",
     "output_type": "stream",
     "text": [
      "100%|██████████| 80/80 [00:04<00:00, 19.42it/s]\n"
     ]
    },
    {
     "name": "stdout",
     "output_type": "stream",
     "text": [
      "Saved to ../workspace/data/presenters/50823_221223_emma.wav\n",
      "----------------------------\n",
      "voice preset: emma \n",
      " hahaha No kidding! We could use some cheering up after the past year. \n",
      "\n",
      "Generating autoregressive samples..\n"
     ]
    },
    {
     "name": "stderr",
     "output_type": "stream",
     "text": [
      "100%|██████████| 6/6 [00:17<00:00,  2.96s/it]\n"
     ]
    },
    {
     "name": "stdout",
     "output_type": "stream",
     "text": [
      "Computing best candidates using CLVP\n"
     ]
    },
    {
     "name": "stderr",
     "output_type": "stream",
     "text": [
      "100%|██████████| 6/6 [00:01<00:00,  4.92it/s]\n"
     ]
    },
    {
     "name": "stdout",
     "output_type": "stream",
     "text": [
      "Transforming autoregressive outputs into audio..\n"
     ]
    },
    {
     "name": "stderr",
     "output_type": "stream",
     "text": [
      "100%|██████████| 80/80 [00:03<00:00, 20.06it/s]\n"
     ]
    },
    {
     "name": "stdout",
     "output_type": "stream",
     "text": [
      "Saved to ../workspace/data/presenters/50855_221223_emma.wav\n",
      "----------------------------\n",
      "voice preset: tom \n",
      " Agreed. Merry everything to us too, Anna! \n",
      "\n",
      "Generating autoregressive samples..\n"
     ]
    },
    {
     "name": "stderr",
     "output_type": "stream",
     "text": [
      "100%|██████████| 6/6 [00:11<00:00,  1.95s/it]\n"
     ]
    },
    {
     "name": "stdout",
     "output_type": "stream",
     "text": [
      "Computing best candidates using CLVP\n"
     ]
    },
    {
     "name": "stderr",
     "output_type": "stream",
     "text": [
      "100%|██████████| 6/6 [00:01<00:00,  4.93it/s]\n"
     ]
    },
    {
     "name": "stdout",
     "output_type": "stream",
     "text": [
      "Transforming autoregressive outputs into audio..\n"
     ]
    },
    {
     "name": "stderr",
     "output_type": "stream",
     "text": [
      "100%|██████████| 80/80 [00:03<00:00, 20.25it/s]\n"
     ]
    },
    {
     "name": "stdout",
     "output_type": "stream",
     "text": [
      "Saved to ../workspace/data/presenters/50884_221223_tom.wav\n",
      "----------------------------\n",
      "voice preset: emma \n",
      " hahaa Merry everything, Philip! Let’s hope for a great holiday season ahead! \n",
      "\n",
      "Generating autoregressive samples..\n"
     ]
    },
    {
     "name": "stderr",
     "output_type": "stream",
     "text": [
      "100%|██████████| 6/6 [00:26<00:00,  4.46s/it]\n"
     ]
    },
    {
     "name": "stdout",
     "output_type": "stream",
     "text": [
      "Computing best candidates using CLVP\n"
     ]
    },
    {
     "name": "stderr",
     "output_type": "stream",
     "text": [
      "100%|██████████| 6/6 [00:01<00:00,  4.92it/s]\n"
     ]
    },
    {
     "name": "stdout",
     "output_type": "stream",
     "text": [
      "Transforming autoregressive outputs into audio..\n"
     ]
    },
    {
     "name": "stderr",
     "output_type": "stream",
     "text": [
      "100%|██████████| 80/80 [00:04<00:00, 19.68it/s]\n"
     ]
    },
    {
     "name": "stdout",
     "output_type": "stream",
     "text": [
      "Saved to ../workspace/data/presenters/50907_221223_emma.wav\n",
      "----------------------------\n",
      "voice preset: emma \n",
      " Phillip, have you heard about Greetings? \n",
      "\n",
      "Generating autoregressive samples..\n"
     ]
    },
    {
     "name": "stderr",
     "output_type": "stream",
     "text": [
      "100%|██████████| 6/6 [00:08<00:00,  1.34s/it]\n"
     ]
    },
    {
     "name": "stdout",
     "output_type": "stream",
     "text": [
      "Computing best candidates using CLVP\n"
     ]
    },
    {
     "name": "stderr",
     "output_type": "stream",
     "text": [
      "100%|██████████| 6/6 [00:01<00:00,  4.94it/s]\n"
     ]
    },
    {
     "name": "stdout",
     "output_type": "stream",
     "text": [
      "Transforming autoregressive outputs into audio..\n"
     ]
    },
    {
     "name": "stderr",
     "output_type": "stream",
     "text": [
      "100%|██████████| 80/80 [00:04<00:00, 19.80it/s]\n"
     ]
    },
    {
     "name": "stdout",
     "output_type": "stream",
     "text": [
      "Saved to ../workspace/data/presenters/50946_221223_emma.wav\n",
      "----------------------------\n",
      "voice preset: tom \n",
      " Anna, what do you mean by that? \n",
      "\n",
      "Generating autoregressive samples..\n"
     ]
    },
    {
     "name": "stderr",
     "output_type": "stream",
     "text": [
      "100%|██████████| 6/6 [00:07<00:00,  1.32s/it]\n"
     ]
    },
    {
     "name": "stdout",
     "output_type": "stream",
     "text": [
      "Computing best candidates using CLVP\n"
     ]
    },
    {
     "name": "stderr",
     "output_type": "stream",
     "text": [
      "100%|██████████| 6/6 [00:01<00:00,  4.91it/s]\n"
     ]
    },
    {
     "name": "stdout",
     "output_type": "stream",
     "text": [
      "Transforming autoregressive outputs into audio..\n"
     ]
    },
    {
     "name": "stderr",
     "output_type": "stream",
     "text": [
      "100%|██████████| 80/80 [00:04<00:00, 19.39it/s]\n"
     ]
    },
    {
     "name": "stdout",
     "output_type": "stream",
     "text": [
      "Saved to ../workspace/data/presenters/50964_221223_tom.wav\n",
      "----------------------------\n",
      "voice preset: emma \n",
      " I mean, the new app that's taking over the world! It's like a virtual greeting card that you can send to your friends and family. \n",
      "\n",
      "Generating autoregressive samples..\n"
     ]
    },
    {
     "name": "stderr",
     "output_type": "stream",
     "text": [
      "100%|██████████| 6/6 [00:24<00:00,  4.03s/it]\n"
     ]
    },
    {
     "name": "stdout",
     "output_type": "stream",
     "text": [
      "Computing best candidates using CLVP\n"
     ]
    },
    {
     "name": "stderr",
     "output_type": "stream",
     "text": [
      "100%|██████████| 6/6 [00:01<00:00,  4.88it/s]\n"
     ]
    },
    {
     "name": "stdout",
     "output_type": "stream",
     "text": [
      "Transforming autoregressive outputs into audio..\n"
     ]
    },
    {
     "name": "stderr",
     "output_type": "stream",
     "text": [
      "100%|██████████| 80/80 [00:04<00:00, 18.95it/s]\n"
     ]
    },
    {
     "name": "stdout",
     "output_type": "stream",
     "text": [
      "Saved to ../workspace/data/presenters/50984_221223_emma.wav\n",
      "----------------------------\n",
      "voice preset: tom \n",
      " Oh, I see. Well, it sounds interesting. What makes it so special? \n",
      "\n",
      "Generating autoregressive samples..\n"
     ]
    },
    {
     "name": "stderr",
     "output_type": "stream",
     "text": [
      "100%|██████████| 6/6 [00:21<00:00,  3.53s/it]\n"
     ]
    },
    {
     "name": "stdout",
     "output_type": "stream",
     "text": [
      "Computing best candidates using CLVP\n"
     ]
    },
    {
     "name": "stderr",
     "output_type": "stream",
     "text": [
      "100%|██████████| 6/6 [00:01<00:00,  4.93it/s]\n"
     ]
    },
    {
     "name": "stdout",
     "output_type": "stream",
     "text": [
      "Transforming autoregressive outputs into audio..\n"
     ]
    },
    {
     "name": "stderr",
     "output_type": "stream",
     "text": [
      "100%|██████████| 80/80 [00:04<00:00, 19.24it/s]\n"
     ]
    },
    {
     "name": "stdout",
     "output_type": "stream",
     "text": [
      "Saved to ../workspace/data/presenters/51019_221223_tom.wav\n",
      "----------------------------\n",
      "voice preset: emma \n",
      " It has tons of designs to choose from, and you can even customize them with your own messages. Plus, it's super easy to use! \n",
      "\n",
      "Generating autoregressive samples..\n"
     ]
    },
    {
     "name": "stderr",
     "output_type": "stream",
     "text": [
      "100%|██████████| 6/6 [00:27<00:00,  4.58s/it]\n"
     ]
    },
    {
     "name": "stdout",
     "output_type": "stream",
     "text": [
      "Computing best candidates using CLVP\n"
     ]
    },
    {
     "name": "stderr",
     "output_type": "stream",
     "text": [
      "100%|██████████| 6/6 [00:01<00:00,  4.88it/s]\n"
     ]
    },
    {
     "name": "stdout",
     "output_type": "stream",
     "text": [
      "Transforming autoregressive outputs into audio..\n"
     ]
    },
    {
     "name": "stderr",
     "output_type": "stream",
     "text": [
      "100%|██████████| 80/80 [00:04<00:00, 18.82it/s]\n"
     ]
    },
    {
     "name": "stdout",
     "output_type": "stream",
     "text": [
      "Saved to ../workspace/data/presenters/51052_221223_emma.wav\n",
      "----------------------------\n",
      "voice preset: tom \n",
      " That does sound pretty cool. I'll have to check it out myself. \n",
      "\n",
      "Generating autoregressive samples..\n"
     ]
    },
    {
     "name": "stderr",
     "output_type": "stream",
     "text": [
      "100%|██████████| 6/6 [00:14<00:00,  2.36s/it]\n"
     ]
    },
    {
     "name": "stdout",
     "output_type": "stream",
     "text": [
      "Computing best candidates using CLVP\n"
     ]
    },
    {
     "name": "stderr",
     "output_type": "stream",
     "text": [
      "100%|██████████| 6/6 [00:01<00:00,  4.91it/s]\n"
     ]
    },
    {
     "name": "stdout",
     "output_type": "stream",
     "text": [
      "Transforming autoregressive outputs into audio..\n"
     ]
    },
    {
     "name": "stderr",
     "output_type": "stream",
     "text": [
      "100%|██████████| 80/80 [00:04<00:00, 18.90it/s]\n"
     ]
    },
    {
     "name": "stdout",
     "output_type": "stream",
     "text": [
      "Saved to ../workspace/data/presenters/51091_221223_tom.wav\n",
      "----------------------------\n",
      "voice preset: emma \n",
      " Definitely, you should. And don't forget to send some greetings to our friends too! \n",
      "\n",
      "Generating autoregressive samples..\n"
     ]
    },
    {
     "name": "stderr",
     "output_type": "stream",
     "text": [
      "100%|██████████| 6/6 [00:17<00:00,  2.94s/it]\n"
     ]
    },
    {
     "name": "stdout",
     "output_type": "stream",
     "text": [
      "Computing best candidates using CLVP\n"
     ]
    },
    {
     "name": "stderr",
     "output_type": "stream",
     "text": [
      "100%|██████████| 6/6 [00:01<00:00,  4.89it/s]\n"
     ]
    },
    {
     "name": "stdout",
     "output_type": "stream",
     "text": [
      "Transforming autoregressive outputs into audio..\n"
     ]
    },
    {
     "name": "stderr",
     "output_type": "stream",
     "text": [
      "100%|██████████| 80/80 [00:04<00:00, 18.56it/s]\n"
     ]
    },
    {
     "name": "stdout",
     "output_type": "stream",
     "text": [
      "Saved to ../workspace/data/presenters/51117_221223_emma.wav\n",
      "----------------------------\n",
      "voice preset: tom \n",
      " Right, let's start with Luca. He loves getting mail, so he'll definitely appreciate a virtual card. \n",
      "\n",
      "Generating autoregressive samples..\n"
     ]
    },
    {
     "name": "stderr",
     "output_type": "stream",
     "text": [
      "100%|██████████| 6/6 [00:24<00:00,  4.07s/it]\n"
     ]
    },
    {
     "name": "stdout",
     "output_type": "stream",
     "text": [
      "Computing best candidates using CLVP\n"
     ]
    },
    {
     "name": "stderr",
     "output_type": "stream",
     "text": [
      "100%|██████████| 6/6 [00:01<00:00,  4.84it/s]\n"
     ]
    },
    {
     "name": "stdout",
     "output_type": "stream",
     "text": [
      "Transforming autoregressive outputs into audio..\n"
     ]
    },
    {
     "name": "stderr",
     "output_type": "stream",
     "text": [
      "100%|██████████| 80/80 [00:04<00:00, 18.44it/s]\n"
     ]
    },
    {
     "name": "stdout",
     "output_type": "stream",
     "text": [
      "Saved to ../workspace/data/presenters/51146_221223_tom.wav\n",
      "----------------------------\n",
      "voice preset: emma \n",
      " Agreed, Luca's mailman has his hands full as it is. And what about David? He's always looking for new ways to stay connected with his family. \n",
      "\n",
      "Generating autoregressive samples..\n"
     ]
    },
    {
     "name": "stderr",
     "output_type": "stream",
     "text": [
      "100%|██████████| 6/6 [00:30<00:00,  5.09s/it]\n"
     ]
    },
    {
     "name": "stdout",
     "output_type": "stream",
     "text": [
      "Computing best candidates using CLVP\n"
     ]
    },
    {
     "name": "stderr",
     "output_type": "stream",
     "text": [
      "100%|██████████| 6/6 [00:01<00:00,  4.85it/s]\n"
     ]
    },
    {
     "name": "stdout",
     "output_type": "stream",
     "text": [
      "Transforming autoregressive outputs into audio..\n"
     ]
    },
    {
     "name": "stderr",
     "output_type": "stream",
     "text": [
      "100%|██████████| 80/80 [00:04<00:00, 17.79it/s]\n"
     ]
    },
    {
     "name": "stdout",
     "output_type": "stream",
     "text": [
      "Saved to ../workspace/data/presenters/51182_221223_emma.wav\n",
      "----------------------------\n",
      "voice preset: tom \n",
      " Absolutely, sending a virtual greeting card is a perfect way to bridge that gap between him and them. Let's move on to Carl, he's always up for something new and exciting. \n",
      "\n",
      "Generating autoregressive samples..\n"
     ]
    },
    {
     "name": "stderr",
     "output_type": "stream",
     "text": [
      "100%|██████████| 6/6 [00:45<00:00,  7.50s/it]\n"
     ]
    },
    {
     "name": "stdout",
     "output_type": "stream",
     "text": [
      "Computing best candidates using CLVP\n"
     ]
    },
    {
     "name": "stderr",
     "output_type": "stream",
     "text": [
      "100%|██████████| 6/6 [00:01<00:00,  4.75it/s]\n"
     ]
    },
    {
     "name": "stdout",
     "output_type": "stream",
     "text": [
      "Transforming autoregressive outputs into audio..\n"
     ]
    },
    {
     "name": "stderr",
     "output_type": "stream",
     "text": [
      "100%|██████████| 80/80 [00:11<00:00,  7.10it/s]\n"
     ]
    },
    {
     "name": "stdout",
     "output_type": "stream",
     "text": [
      "Saved to ../workspace/data/presenters/51225_221223_tom.wav\n",
      "----------------------------\n",
      "voice preset: emma \n",
      " That's right! And what about Joris? He loves technology and gadgets, so I'm sure he'll be impressed by this app. \n",
      "\n",
      "Generating autoregressive samples..\n"
     ]
    },
    {
     "name": "stderr",
     "output_type": "stream",
     "text": [
      "100%|██████████| 6/6 [00:24<00:00,  4.05s/it]\n"
     ]
    },
    {
     "name": "stdout",
     "output_type": "stream",
     "text": [
      "Computing best candidates using CLVP\n"
     ]
    },
    {
     "name": "stderr",
     "output_type": "stream",
     "text": [
      "100%|██████████| 6/6 [00:01<00:00,  4.90it/s]\n"
     ]
    },
    {
     "name": "stdout",
     "output_type": "stream",
     "text": [
      "Transforming autoregressive outputs into audio..\n"
     ]
    },
    {
     "name": "stderr",
     "output_type": "stream",
     "text": [
      "100%|██████████| 80/80 [00:04<00:00, 18.98it/s]\n"
     ]
    },
    {
     "name": "stdout",
     "output_type": "stream",
     "text": [
      "Saved to ../workspace/data/presenters/51289_221223_emma.wav\n",
      "----------------------------\n",
      "voice preset: tom \n",
      " Definitely, let's not forget Bob too! He always appreciates thoughtful gestures, like sending a greeting card on special occasions. \n",
      "\n",
      "Generating autoregressive samples..\n"
     ]
    },
    {
     "name": "stderr",
     "output_type": "stream",
     "text": [
      "100%|██████████| 6/6 [00:30<00:00,  5.11s/it]\n"
     ]
    },
    {
     "name": "stdout",
     "output_type": "stream",
     "text": [
      "Computing best candidates using CLVP\n"
     ]
    },
    {
     "name": "stderr",
     "output_type": "stream",
     "text": [
      "100%|██████████| 6/6 [00:01<00:00,  4.86it/s]\n"
     ]
    },
    {
     "name": "stdout",
     "output_type": "stream",
     "text": [
      "Transforming autoregressive outputs into audio..\n"
     ]
    },
    {
     "name": "stderr",
     "output_type": "stream",
     "text": [
      "100%|██████████| 80/80 [00:04<00:00, 16.20it/s]\n"
     ]
    },
    {
     "name": "stdout",
     "output_type": "stream",
     "text": [
      "Saved to ../workspace/data/presenters/51325_221223_tom.wav\n",
      "----------------------------\n",
      "voice preset: emma \n",
      " Perfect! Well, I think that's it for now. Let's start sending some greetings and spread the love! \n",
      "\n",
      "Generating autoregressive samples..\n"
     ]
    },
    {
     "name": "stderr",
     "output_type": "stream",
     "text": [
      "100%|██████████| 6/6 [00:24<00:00,  4.11s/it]\n"
     ]
    },
    {
     "name": "stdout",
     "output_type": "stream",
     "text": [
      "Computing best candidates using CLVP\n"
     ]
    },
    {
     "name": "stderr",
     "output_type": "stream",
     "text": [
      "100%|██████████| 6/6 [00:01<00:00,  4.91it/s]\n"
     ]
    },
    {
     "name": "stdout",
     "output_type": "stream",
     "text": [
      "Transforming autoregressive outputs into audio..\n"
     ]
    },
    {
     "name": "stderr",
     "output_type": "stream",
     "text": [
      "100%|██████████| 80/80 [00:04<00:00, 18.31it/s]\n"
     ]
    },
    {
     "name": "stdout",
     "output_type": "stream",
     "text": [
      "Saved to ../workspace/data/presenters/51368_221223_emma.wav\n",
      "----------------------------\n",
      "voice preset: tom \n",
      " Agreed, let'dreements, let'd \n",
      "\n",
      "Generating autoregressive samples..\n"
     ]
    },
    {
     "name": "stderr",
     "output_type": "stream",
     "text": [
      "100%|██████████| 6/6 [00:07<00:00,  1.31s/it]\n"
     ]
    },
    {
     "name": "stdout",
     "output_type": "stream",
     "text": [
      "Computing best candidates using CLVP\n"
     ]
    },
    {
     "name": "stderr",
     "output_type": "stream",
     "text": [
      "100%|██████████| 6/6 [00:01<00:00,  4.92it/s]\n"
     ]
    },
    {
     "name": "stdout",
     "output_type": "stream",
     "text": [
      "Transforming autoregressive outputs into audio..\n"
     ]
    },
    {
     "name": "stderr",
     "output_type": "stream",
     "text": [
      "100%|██████████| 80/80 [00:04<00:00, 18.78it/s]\n"
     ]
    },
    {
     "name": "stdout",
     "output_type": "stream",
     "text": [
      "Saved to ../workspace/data/presenters/51405_221223_tom.wav\n",
      "----------------------------\n",
      "voice preset: emma \n",
      " You know, Philip, I just realized how important greetings are during this season. They help set the tone for everything that follows. \n",
      "\n",
      "Generating autoregressive samples..\n"
     ]
    },
    {
     "name": "stderr",
     "output_type": "stream",
     "text": [
      "100%|██████████| 6/6 [00:25<00:00,  4.33s/it]\n"
     ]
    },
    {
     "name": "stdout",
     "output_type": "stream",
     "text": [
      "Computing best candidates using CLVP\n"
     ]
    },
    {
     "name": "stderr",
     "output_type": "stream",
     "text": [
      "100%|██████████| 6/6 [00:01<00:00,  4.91it/s]\n"
     ]
    },
    {
     "name": "stdout",
     "output_type": "stream",
     "text": [
      "Transforming autoregressive outputs into audio..\n"
     ]
    },
    {
     "name": "stderr",
     "output_type": "stream",
     "text": [
      "100%|██████████| 80/80 [00:04<00:00, 18.05it/s]\n"
     ]
    },
    {
     "name": "stdout",
     "output_type": "stream",
     "text": [
      "Saved to ../workspace/data/presenters/51425_221223_emma.wav\n",
      "----------------------------\n",
      "voice preset: tom \n",
      " Absolutely, Anna. A simple greeting can make someone feel welcomed and included in a larger community. \n",
      "\n",
      "Generating autoregressive samples..\n"
     ]
    },
    {
     "name": "stderr",
     "output_type": "stream",
     "text": [
      "100%|██████████| 6/6 [00:26<00:00,  4.39s/it]\n"
     ]
    },
    {
     "name": "stdout",
     "output_type": "stream",
     "text": [
      "Computing best candidates using CLVP\n"
     ]
    },
    {
     "name": "stderr",
     "output_type": "stream",
     "text": [
      "100%|██████████| 6/6 [00:01<00:00,  4.91it/s]\n"
     ]
    },
    {
     "name": "stdout",
     "output_type": "stream",
     "text": [
      "Transforming autoregressive outputs into audio..\n"
     ]
    },
    {
     "name": "stderr",
     "output_type": "stream",
     "text": [
      "100%|██████████| 80/80 [00:04<00:00, 18.57it/s]\n"
     ]
    },
    {
     "name": "stdout",
     "output_type": "stream",
     "text": [
      "Saved to ../workspace/data/presenters/51463_221223_tom.wav\n",
      "----------------------------\n",
      "voice preset: emma \n",
      " It's also a great way to show appreciation for those around us. I always try to send out some greetings to my family members during the holiday season. \n",
      "\n",
      "Generating autoregressive samples..\n"
     ]
    },
    {
     "name": "stderr",
     "output_type": "stream",
     "text": [
      "100%|██████████| 6/6 [00:28<00:00,  4.73s/it]\n"
     ]
    },
    {
     "name": "stdout",
     "output_type": "stream",
     "text": [
      "Computing best candidates using CLVP\n"
     ]
    },
    {
     "name": "stderr",
     "output_type": "stream",
     "text": [
      "100%|██████████| 6/6 [00:01<00:00,  4.83it/s]\n"
     ]
    },
    {
     "name": "stdout",
     "output_type": "stream",
     "text": [
      "Transforming autoregressive outputs into audio..\n"
     ]
    },
    {
     "name": "stderr",
     "output_type": "stream",
     "text": [
      "100%|██████████| 80/80 [00:04<00:00, 17.80it/s]\n"
     ]
    },
    {
     "name": "stdout",
     "output_type": "stream",
     "text": [
      "Saved to ../workspace/data/presenters/51501_221223_emma.wav\n",
      "----------------------------\n",
      "voice preset: tom \n",
      " That's a great idea, Anna. And speaking of family, have you thought about what you'll be having for Christmas dinner? \n",
      "\n",
      "Generating autoregressive samples..\n"
     ]
    },
    {
     "name": "stderr",
     "output_type": "stream",
     "text": [
      "100%|██████████| 6/6 [00:25<00:00,  4.25s/it]\n"
     ]
    },
    {
     "name": "stdout",
     "output_type": "stream",
     "text": [
      "Computing best candidates using CLVP\n"
     ]
    },
    {
     "name": "stderr",
     "output_type": "stream",
     "text": [
      "100%|██████████| 6/6 [00:01<00:00,  4.85it/s]\n"
     ]
    },
    {
     "name": "stdout",
     "output_type": "stream",
     "text": [
      "Transforming autoregressive outputs into audio..\n"
     ]
    },
    {
     "name": "stderr",
     "output_type": "stream",
     "text": [
      "100%|██████████| 80/80 [00:04<00:00, 16.70it/s]\n"
     ]
    },
    {
     "name": "stdout",
     "output_type": "stream",
     "text": [
      "Saved to ../workspace/data/presenters/51541_221223_tom.wav\n",
      "----------------------------\n",
      "voice preset: emma \n",
      " Well, we haven't had much time to plan yet, but I'm hoping everyone on our team at Musaic has a lot of fun during the meal. \n",
      "\n",
      "Generating autoregressive samples..\n"
     ]
    },
    {
     "name": "stderr",
     "output_type": "stream",
     "text": [
      "100%|██████████| 6/6 [00:23<00:00,  3.95s/it]\n"
     ]
    },
    {
     "name": "stdout",
     "output_type": "stream",
     "text": [
      "Computing best candidates using CLVP\n"
     ]
    },
    {
     "name": "stderr",
     "output_type": "stream",
     "text": [
      "100%|██████████| 6/6 [00:01<00:00,  4.86it/s]\n"
     ]
    },
    {
     "name": "stdout",
     "output_type": "stream",
     "text": [
      "Transforming autoregressive outputs into audio..\n"
     ]
    },
    {
     "name": "stderr",
     "output_type": "stream",
     "text": [
      "100%|██████████| 80/80 [00:04<00:00, 17.38it/s]\n"
     ]
    },
    {
     "name": "stdout",
     "output_type": "stream",
     "text": [
      "Saved to ../workspace/data/presenters/51579_221223_emma.wav\n",
      "----------------------------\n",
      "voice preset: tom \n",
      " That sounds like a great idea! Maybe we could even make it a bit more festive by playing some holiday music while we eat. \n",
      "\n",
      "Generating autoregressive samples..\n"
     ]
    },
    {
     "name": "stderr",
     "output_type": "stream",
     "text": [
      "100%|██████████| 6/6 [00:25<00:00,  4.25s/it]\n"
     ]
    },
    {
     "name": "stdout",
     "output_type": "stream",
     "text": [
      "Computing best candidates using CLVP\n"
     ]
    },
    {
     "name": "stderr",
     "output_type": "stream",
     "text": [
      "100%|██████████| 6/6 [00:01<00:00,  4.88it/s]\n"
     ]
    },
    {
     "name": "stdout",
     "output_type": "stream",
     "text": [
      "Transforming autoregressive outputs into audio..\n"
     ]
    },
    {
     "name": "stderr",
     "output_type": "stream",
     "text": [
      "100%|██████████| 80/80 [00:05<00:00, 15.82it/s]\n"
     ]
    },
    {
     "name": "stdout",
     "output_type": "stream",
     "text": [
      "Saved to ../workspace/data/presenters/51615_221223_tom.wav\n",
      "----------------------------\n",
      "voice preset: emma \n",
      " Oh, that would be perfect! I'm sure everyone would love to hear some classic Christmas tunes while they enjoy their meal. \n",
      "\n",
      "Generating autoregressive samples..\n"
     ]
    },
    {
     "name": "stderr",
     "output_type": "stream",
     "text": [
      "100%|██████████| 6/6 [00:26<00:00,  4.38s/it]\n"
     ]
    },
    {
     "name": "stdout",
     "output_type": "stream",
     "text": [
      "Computing best candidates using CLVP\n"
     ]
    },
    {
     "name": "stderr",
     "output_type": "stream",
     "text": [
      "100%|██████████| 6/6 [00:01<00:00,  4.88it/s]\n"
     ]
    },
    {
     "name": "stdout",
     "output_type": "stream",
     "text": [
      "Transforming autoregressive outputs into audio..\n"
     ]
    },
    {
     "name": "stderr",
     "output_type": "stream",
     "text": [
      "100%|██████████| 80/80 [00:04<00:00, 17.53it/s]\n"
     ]
    },
    {
     "name": "stdout",
     "output_type": "stream",
     "text": [
      "Saved to ../workspace/data/presenters/51653_221223_emma.wav\n",
      "----------------------------\n",
      "voice preset: tom \n",
      " Definitely. And who knows, maybe we could even have a little sing-along after dinner. \n",
      "\n",
      "Generating autoregressive samples..\n"
     ]
    },
    {
     "name": "stderr",
     "output_type": "stream",
     "text": [
      "100%|██████████| 6/6 [00:24<00:00,  4.08s/it]\n"
     ]
    },
    {
     "name": "stdout",
     "output_type": "stream",
     "text": [
      "Computing best candidates using CLVP\n"
     ]
    },
    {
     "name": "stderr",
     "output_type": "stream",
     "text": [
      "100%|██████████| 6/6 [00:01<00:00,  4.90it/s]\n"
     ]
    },
    {
     "name": "stdout",
     "output_type": "stream",
     "text": [
      "Transforming autoregressive outputs into audio..\n"
     ]
    },
    {
     "name": "stderr",
     "output_type": "stream",
     "text": [
      "100%|██████████| 80/80 [00:04<00:00, 17.52it/s]\n"
     ]
    },
    {
     "name": "stdout",
     "output_type": "stream",
     "text": [
      "Saved to ../workspace/data/presenters/51691_221223_tom.wav\n",
      "----------------------------\n",
      "voice preset: emma \n",
      " That sounds like so much fun! I can already picture it in my mind. We'll all be sitting around the table, laughing and singing together. \n",
      "\n",
      "Generating autoregressive samples..\n"
     ]
    },
    {
     "name": "stderr",
     "output_type": "stream",
     "text": [
      "100%|██████████| 6/6 [00:30<00:00,  5.12s/it]\n"
     ]
    },
    {
     "name": "stdout",
     "output_type": "stream",
     "text": [
      "Computing best candidates using CLVP\n"
     ]
    },
    {
     "name": "stderr",
     "output_type": "stream",
     "text": [
      "100%|██████████| 6/6 [00:01<00:00,  4.87it/s]\n"
     ]
    },
    {
     "name": "stdout",
     "output_type": "stream",
     "text": [
      "Transforming autoregressive outputs into audio..\n"
     ]
    },
    {
     "name": "stderr",
     "output_type": "stream",
     "text": [
      "100%|██████████| 80/80 [00:07<00:00, 10.29it/s]\n"
     ]
    },
    {
     "name": "stdout",
     "output_type": "stream",
     "text": [
      "Saved to ../workspace/data/presenters/51728_221223_emma.wav\n",
      "----------------------------\n",
      "voice preset: tom \n",
      " It's going to be a great Christmas dinner, Anna. And I hope everyone on our team has a wonderful holiday season overall. \n",
      "\n",
      "Generating autoregressive samples..\n"
     ]
    },
    {
     "name": "stderr",
     "output_type": "stream",
     "text": [
      "100%|██████████| 6/6 [00:40<00:00,  6.70s/it]\n"
     ]
    },
    {
     "name": "stdout",
     "output_type": "stream",
     "text": [
      "Computing best candidates using CLVP\n"
     ]
    },
    {
     "name": "stderr",
     "output_type": "stream",
     "text": [
      "100%|██████████| 6/6 [00:01<00:00,  4.69it/s]\n"
     ]
    },
    {
     "name": "stdout",
     "output_type": "stream",
     "text": [
      "Transforming autoregressive outputs into audio..\n"
     ]
    },
    {
     "name": "stderr",
     "output_type": "stream",
     "text": [
      "100%|██████████| 80/80 [00:06<00:00, 12.09it/s]\n"
     ]
    },
    {
     "name": "stdout",
     "output_type": "stream",
     "text": [
      "Saved to ../workspace/data/presenters/51774_221223_tom.wav\n",
      "----------------------------\n",
      "voice preset: emma \n",
      " You know what I hate? All this nonsense about Santa. \n",
      "\n",
      "Generating autoregressive samples..\n"
     ]
    },
    {
     "name": "stderr",
     "output_type": "stream",
     "text": [
      "100%|██████████| 6/6 [00:10<00:00,  1.82s/it]\n"
     ]
    },
    {
     "name": "stdout",
     "output_type": "stream",
     "text": [
      "Computing best candidates using CLVP\n"
     ]
    },
    {
     "name": "stderr",
     "output_type": "stream",
     "text": [
      "100%|██████████| 6/6 [00:01<00:00,  4.94it/s]\n"
     ]
    },
    {
     "name": "stdout",
     "output_type": "stream",
     "text": [
      "Transforming autoregressive outputs into audio..\n"
     ]
    },
    {
     "name": "stderr",
     "output_type": "stream",
     "text": [
      "100%|██████████| 80/80 [00:04<00:00, 17.83it/s]\n"
     ]
    },
    {
     "name": "stdout",
     "output_type": "stream",
     "text": [
      "Saved to ../workspace/data/presenters/51829_221223_emma.wav\n",
      "----------------------------\n",
      "voice preset: tom \n",
      " What do you mean? He's a part of Christmas. \n",
      "\n",
      "Generating autoregressive samples..\n"
     ]
    },
    {
     "name": "stderr",
     "output_type": "stream",
     "text": [
      "100%|██████████| 6/6 [00:10<00:00,  1.79s/it]\n"
     ]
    },
    {
     "name": "stdout",
     "output_type": "stream",
     "text": [
      "Computing best candidates using CLVP\n"
     ]
    },
    {
     "name": "stderr",
     "output_type": "stream",
     "text": [
      "100%|██████████| 6/6 [00:01<00:00,  4.94it/s]\n"
     ]
    },
    {
     "name": "stdout",
     "output_type": "stream",
     "text": [
      "Transforming autoregressive outputs into audio..\n"
     ]
    },
    {
     "name": "stderr",
     "output_type": "stream",
     "text": [
      "100%|██████████| 80/80 [00:04<00:00, 17.93it/s]\n"
     ]
    },
    {
     "name": "stdout",
     "output_type": "stream",
     "text": [
      "Saved to ../workspace/data/presenters/51852_221223_tom.wav\n",
      "----------------------------\n",
      "voice preset: emma \n",
      " He's not real! It's all just a story to make kids feel better about their parents not being able to give them everything they want. \n",
      "\n",
      "Generating autoregressive samples..\n"
     ]
    },
    {
     "name": "stderr",
     "output_type": "stream",
     "text": [
      "100%|██████████| 6/6 [00:30<00:00,  5.03s/it]\n"
     ]
    },
    {
     "name": "stdout",
     "output_type": "stream",
     "text": [
      "Computing best candidates using CLVP\n"
     ]
    },
    {
     "name": "stderr",
     "output_type": "stream",
     "text": [
      "100%|██████████| 6/6 [00:01<00:00,  4.67it/s]\n"
     ]
    },
    {
     "name": "stdout",
     "output_type": "stream",
     "text": [
      "Transforming autoregressive outputs into audio..\n"
     ]
    },
    {
     "name": "stderr",
     "output_type": "stream",
     "text": [
      "100%|██████████| 80/80 [00:05<00:00, 14.50it/s]\n"
     ]
    },
    {
     "name": "stdout",
     "output_type": "stream",
     "text": [
      "Saved to ../workspace/data/presenters/51874_221223_emma.wav\n",
      "----------------------------\n",
      "voice preset: tom \n",
      " But what about the presents under the tree? Santa is responsible for those. \n",
      "\n",
      "Generating autoregressive samples..\n"
     ]
    },
    {
     "name": "stderr",
     "output_type": "stream",
     "text": [
      "100%|██████████| 6/6 [00:18<00:00,  3.04s/it]\n"
     ]
    },
    {
     "name": "stdout",
     "output_type": "stream",
     "text": [
      "Computing best candidates using CLVP\n"
     ]
    },
    {
     "name": "stderr",
     "output_type": "stream",
     "text": [
      "100%|██████████| 6/6 [00:01<00:00,  4.93it/s]\n"
     ]
    },
    {
     "name": "stdout",
     "output_type": "stream",
     "text": [
      "Transforming autoregressive outputs into audio..\n"
     ]
    },
    {
     "name": "stderr",
     "output_type": "stream",
     "text": [
      "100%|██████████| 80/80 [00:04<00:00, 17.00it/s]\n"
     ]
    },
    {
     "name": "stdout",
     "output_type": "stream",
     "text": [
      "Saved to ../workspace/data/presenters/51917_221223_tom.wav\n",
      "----------------------------\n",
      "voice preset: emma \n",
      " That's just the parents trying to make it look like Santa did it. They're the ones who buy the gifts and wrap them up. \n",
      "\n",
      "Generating autoregressive samples..\n"
     ]
    },
    {
     "name": "stderr",
     "output_type": "stream",
     "text": [
      "100%|██████████| 6/6 [00:21<00:00,  3.52s/it]\n"
     ]
    },
    {
     "name": "stdout",
     "output_type": "stream",
     "text": [
      "Computing best candidates using CLVP\n"
     ]
    },
    {
     "name": "stderr",
     "output_type": "stream",
     "text": [
      "100%|██████████| 6/6 [00:01<00:00,  4.89it/s]\n"
     ]
    },
    {
     "name": "stdout",
     "output_type": "stream",
     "text": [
      "Transforming autoregressive outputs into audio..\n"
     ]
    },
    {
     "name": "stderr",
     "output_type": "stream",
     "text": [
      "100%|██████████| 80/80 [00:04<00:00, 17.06it/s]\n"
     ]
    },
    {
     "name": "stdout",
     "output_type": "stream",
     "text": [
      "Saved to ../workspace/data/presenters/51948_221223_emma.wav\n",
      "----------------------------\n",
      "voice preset: tom \n",
      " But what about the elves? Don't you think they exist? \n",
      "\n",
      "Generating autoregressive samples..\n"
     ]
    },
    {
     "name": "stderr",
     "output_type": "stream",
     "text": [
      "100%|██████████| 6/6 [00:12<00:00,  2.09s/it]\n"
     ]
    },
    {
     "name": "stdout",
     "output_type": "stream",
     "text": [
      "Computing best candidates using CLVP\n"
     ]
    },
    {
     "name": "stderr",
     "output_type": "stream",
     "text": [
      "100%|██████████| 6/6 [00:01<00:00,  4.91it/s]\n"
     ]
    },
    {
     "name": "stdout",
     "output_type": "stream",
     "text": [
      "Transforming autoregressive outputs into audio..\n"
     ]
    },
    {
     "name": "stderr",
     "output_type": "stream",
     "text": [
      "100%|██████████| 80/80 [00:04<00:00, 16.93it/s]\n"
     ]
    },
    {
     "name": "stdout",
     "output_type": "stream",
     "text": [
      "Saved to ../workspace/data/presenters/51982_221223_tom.wav\n",
      "----------------------------\n",
      "voice preset: emma \n",
      " Of course not! Elves are just a part of the story. They don't really exist. It's all just a made-up tale to make Christmas more magical. \n",
      "\n",
      "Generating autoregressive samples..\n"
     ]
    },
    {
     "name": "stderr",
     "output_type": "stream",
     "text": [
      "100%|██████████| 6/6 [00:31<00:00,  5.18s/it]\n"
     ]
    },
    {
     "name": "stdout",
     "output_type": "stream",
     "text": [
      "Computing best candidates using CLVP\n"
     ]
    },
    {
     "name": "stderr",
     "output_type": "stream",
     "text": [
      "100%|██████████| 6/6 [00:01<00:00,  4.84it/s]\n"
     ]
    },
    {
     "name": "stdout",
     "output_type": "stream",
     "text": [
      "Transforming autoregressive outputs into audio..\n"
     ]
    },
    {
     "name": "stderr",
     "output_type": "stream",
     "text": [
      "100%|██████████| 80/80 [00:06<00:00, 12.54it/s]\n"
     ]
    },
    {
     "name": "stdout",
     "output_type": "stream",
     "text": [
      "Saved to ../workspace/data/presenters/52007_221223_emma.wav\n",
      "----------------------------\n",
      "voice preset: tom \n",
      " But what about the North Pole? Don't you think it's real? \n",
      "\n",
      "Generating autoregressive samples..\n"
     ]
    },
    {
     "name": "stderr",
     "output_type": "stream",
     "text": [
      "100%|██████████| 6/6 [00:11<00:00,  1.92s/it]\n"
     ]
    },
    {
     "name": "stdout",
     "output_type": "stream",
     "text": [
      "Computing best candidates using CLVP\n"
     ]
    },
    {
     "name": "stderr",
     "output_type": "stream",
     "text": [
      "100%|██████████| 6/6 [00:01<00:00,  4.92it/s]\n"
     ]
    },
    {
     "name": "stdout",
     "output_type": "stream",
     "text": [
      "Transforming autoregressive outputs into audio..\n"
     ]
    },
    {
     "name": "stderr",
     "output_type": "stream",
     "text": [
      "100%|██████████| 80/80 [00:04<00:00, 17.54it/s]\n"
     ]
    },
    {
     "name": "stdout",
     "output_type": "stream",
     "text": [
      "Saved to ../workspace/data/presenters/52052_221223_tom.wav\n",
      "----------------------------\n",
      "voice preset: emma \n",
      " The North Pole is just a place in the story. It doesn't actually exist. It's all just a part of the Santa myth. \n",
      "\n",
      "Generating autoregressive samples..\n"
     ]
    },
    {
     "name": "stderr",
     "output_type": "stream",
     "text": [
      "100%|██████████| 6/6 [00:27<00:00,  4.64s/it]\n"
     ]
    },
    {
     "name": "stdout",
     "output_type": "stream",
     "text": [
      "Computing best candidates using CLVP\n"
     ]
    },
    {
     "name": "stderr",
     "output_type": "stream",
     "text": [
      "100%|██████████| 6/6 [00:01<00:00,  4.68it/s]\n"
     ]
    },
    {
     "name": "stdout",
     "output_type": "stream",
     "text": [
      "Transforming autoregressive outputs into audio..\n"
     ]
    },
    {
     "name": "stderr",
     "output_type": "stream",
     "text": [
      "100%|██████████| 80/80 [00:05<00:00, 14.24it/s]\n"
     ]
    },
    {
     "name": "stdout",
     "output_type": "stream",
     "text": [
      "Saved to ../workspace/data/presenters/52076_221223_emma.wav\n",
      "----------------------------\n",
      "voice preset: tom \n",
      " But what about the reindeer? Don't you think they're real? \n",
      "\n",
      "Generating autoregressive samples..\n"
     ]
    },
    {
     "name": "stderr",
     "output_type": "stream",
     "text": [
      "100%|██████████| 6/6 [00:10<00:00,  1.81s/it]\n"
     ]
    },
    {
     "name": "stdout",
     "output_type": "stream",
     "text": [
      "Computing best candidates using CLVP\n"
     ]
    },
    {
     "name": "stderr",
     "output_type": "stream",
     "text": [
      "100%|██████████| 6/6 [00:01<00:00,  4.93it/s]\n"
     ]
    },
    {
     "name": "stdout",
     "output_type": "stream",
     "text": [
      "Transforming autoregressive outputs into audio..\n"
     ]
    },
    {
     "name": "stderr",
     "output_type": "stream",
     "text": [
      "100%|██████████| 80/80 [00:04<00:00, 16.94it/s]\n"
     ]
    },
    {
     "name": "stdout",
     "output_type": "stream",
     "text": [
      "Saved to ../workspace/data/presenters/52118_221223_tom.wav\n",
      "----------------------------\n",
      "voice preset: emma \n",
      " Of course not! Reindeer are just a part of the story. They don't really exist. It's all just a made-up tale to make Christmas more magical. \n",
      "\n",
      "Generating autoregressive samples..\n"
     ]
    },
    {
     "name": "stderr",
     "output_type": "stream",
     "text": [
      "100%|██████████| 6/6 [00:30<00:00,  5.08s/it]\n"
     ]
    },
    {
     "name": "stdout",
     "output_type": "stream",
     "text": [
      "Computing best candidates using CLVP\n"
     ]
    },
    {
     "name": "stderr",
     "output_type": "stream",
     "text": [
      "100%|██████████| 6/6 [00:01<00:00,  4.72it/s]\n"
     ]
    },
    {
     "name": "stdout",
     "output_type": "stream",
     "text": [
      "Transforming autoregressive outputs into audio..\n"
     ]
    },
    {
     "name": "stderr",
     "output_type": "stream",
     "text": [
      "100%|██████████| 80/80 [00:04<00:00, 16.82it/s]\n"
     ]
    },
    {
     "name": "stdout",
     "output_type": "stream",
     "text": [
      "Saved to ../workspace/data/presenters/52141_221223_emma.wav\n",
      "----------------------------\n",
      "voice preset: tom \n",
      " But what about the naughty and nice list? Don't you think it's real? \n",
      "\n",
      "Generating autoregressive samples..\n"
     ]
    },
    {
     "name": "stderr",
     "output_type": "stream",
     "text": [
      "100%|██████████| 6/6 [00:14<00:00,  2.40s/it]\n"
     ]
    },
    {
     "name": "stdout",
     "output_type": "stream",
     "text": [
      "Computing best candidates using CLVP\n"
     ]
    },
    {
     "name": "stderr",
     "output_type": "stream",
     "text": [
      "100%|██████████| 6/6 [00:01<00:00,  4.93it/s]\n"
     ]
    },
    {
     "name": "stdout",
     "output_type": "stream",
     "text": [
      "Transforming autoregressive outputs into audio..\n"
     ]
    },
    {
     "name": "stderr",
     "output_type": "stream",
     "text": [
      "100%|██████████| 80/80 [00:04<00:00, 16.89it/s]\n"
     ]
    },
    {
     "name": "stdout",
     "output_type": "stream",
     "text": [
      "Saved to ../workspace/data/presenters/52184_221223_tom.wav\n",
      "----------------------------\n",
      "voice preset: emma \n",
      " The naughty and nice list is just a part of the story. It doesn't really exist. It's all just a made-up tale to make Christmas more magical. \n",
      "\n",
      "Generating autoregressive samples..\n"
     ]
    },
    {
     "name": "stderr",
     "output_type": "stream",
     "text": [
      "100%|██████████| 6/6 [00:28<00:00,  4.79s/it]\n"
     ]
    },
    {
     "name": "stdout",
     "output_type": "stream",
     "text": [
      "Computing best candidates using CLVP\n"
     ]
    },
    {
     "name": "stderr",
     "output_type": "stream",
     "text": [
      "100%|██████████| 6/6 [00:01<00:00,  4.82it/s]\n"
     ]
    },
    {
     "name": "stdout",
     "output_type": "stream",
     "text": [
      "Transforming autoregressive outputs into audio..\n"
     ]
    },
    {
     "name": "stderr",
     "output_type": "stream",
     "text": [
      "100%|██████████| 80/80 [00:05<00:00, 14.63it/s]\n"
     ]
    },
    {
     "name": "stdout",
     "output_type": "stream",
     "text": [
      "Saved to ../workspace/data/presenters/52211_221223_emma.wav\n",
      "----------------------------\n",
      "voice preset: tom \n",
      " But what about the chimney? Don't you think it's real? \n",
      "\n",
      "Generating autoregressive samples..\n"
     ]
    },
    {
     "name": "stderr",
     "output_type": "stream",
     "text": [
      "100%|██████████| 6/6 [00:10<00:00,  1.72s/it]\n"
     ]
    },
    {
     "name": "stdout",
     "output_type": "stream",
     "text": [
      "Computing best candidates using CLVP\n"
     ]
    },
    {
     "name": "stderr",
     "output_type": "stream",
     "text": [
      "100%|██████████| 6/6 [00:01<00:00,  4.88it/s]\n"
     ]
    },
    {
     "name": "stdout",
     "output_type": "stream",
     "text": [
      "Transforming autoregressive outputs into audio..\n"
     ]
    },
    {
     "name": "stderr",
     "output_type": "stream",
     "text": [
      "100%|██████████| 80/80 [00:04<00:00, 16.61it/s]\n"
     ]
    },
    {
     "name": "stdout",
     "output_type": "stream",
     "text": [
      "Saved to ../workspace/data/presenters/52253_221223_tom.wav\n",
      "----------------------------\n",
      "voice preset: emma \n",
      " The chimney is just a part of the story. \n",
      "\n",
      "Generating autoregressive samples..\n"
     ]
    },
    {
     "name": "stderr",
     "output_type": "stream",
     "text": [
      "100%|██████████| 6/6 [00:11<00:00,  1.89s/it]\n"
     ]
    },
    {
     "name": "stdout",
     "output_type": "stream",
     "text": [
      "Computing best candidates using CLVP\n"
     ]
    },
    {
     "name": "stderr",
     "output_type": "stream",
     "text": [
      "100%|██████████| 6/6 [00:01<00:00,  4.68it/s]\n"
     ]
    },
    {
     "name": "stdout",
     "output_type": "stream",
     "text": [
      "Transforming autoregressive outputs into audio..\n"
     ]
    },
    {
     "name": "stderr",
     "output_type": "stream",
     "text": [
      "100%|██████████| 80/80 [00:05<00:00, 14.08it/s]\n"
     ]
    },
    {
     "name": "stdout",
     "output_type": "stream",
     "text": [
      "Saved to ../workspace/data/presenters/52276_221223_emma.wav\n",
      "----------------------------\n",
      "voice preset: emma \n",
      " Phillip, have you ever thought about what Santa would do if he was a pirate? \n",
      "\n",
      "Generating autoregressive samples..\n"
     ]
    },
    {
     "name": "stderr",
     "output_type": "stream",
     "text": [
      "100%|██████████| 6/6 [00:13<00:00,  2.28s/it]\n"
     ]
    },
    {
     "name": "stdout",
     "output_type": "stream",
     "text": [
      "Computing best candidates using CLVP\n"
     ]
    },
    {
     "name": "stderr",
     "output_type": "stream",
     "text": [
      "100%|██████████| 6/6 [00:01<00:00,  4.91it/s]\n"
     ]
    },
    {
     "name": "stdout",
     "output_type": "stream",
     "text": [
      "Transforming autoregressive outputs into audio..\n"
     ]
    },
    {
     "name": "stderr",
     "output_type": "stream",
     "text": [
      "100%|██████████| 80/80 [00:04<00:00, 16.87it/s]\n"
     ]
    },
    {
     "name": "stdout",
     "output_type": "stream",
     "text": [
      "Saved to ../workspace/data/presenters/52301_221223_emma.wav\n",
      "----------------------------\n",
      "voice preset: tom \n",
      " Anna, I don't think that's a good idea. Santa is all about giving and spreading joy, while pirates are all about taking and causing fear. \n",
      "\n",
      "Generating autoregressive samples..\n"
     ]
    },
    {
     "name": "stderr",
     "output_type": "stream",
     "text": [
      "100%|██████████| 6/6 [00:41<00:00,  6.96s/it]\n"
     ]
    },
    {
     "name": "stdout",
     "output_type": "stream",
     "text": [
      "Computing best candidates using CLVP\n"
     ]
    },
    {
     "name": "stderr",
     "output_type": "stream",
     "text": [
      "100%|██████████| 6/6 [00:01<00:00,  4.68it/s]\n"
     ]
    },
    {
     "name": "stdout",
     "output_type": "stream",
     "text": [
      "Transforming autoregressive outputs into audio..\n"
     ]
    },
    {
     "name": "stderr",
     "output_type": "stream",
     "text": [
      "100%|██████████| 80/80 [00:06<00:00, 12.41it/s]\n"
     ]
    },
    {
     "name": "stdout",
     "output_type": "stream",
     "text": [
      "Saved to ../workspace/data/presenters/52327_221223_tom.wav\n",
      "----------------------------\n",
      "voice preset: emma \n",
      " But wouldn't it be interesting to see him with his reindeer, riding on the high seas? \n",
      "\n",
      "Generating autoregressive samples..\n"
     ]
    },
    {
     "name": "stderr",
     "output_type": "stream",
     "text": [
      "100%|██████████| 6/6 [00:15<00:00,  2.64s/it]\n"
     ]
    },
    {
     "name": "stdout",
     "output_type": "stream",
     "text": [
      "Computing best candidates using CLVP\n"
     ]
    },
    {
     "name": "stderr",
     "output_type": "stream",
     "text": [
      "100%|██████████| 6/6 [00:01<00:00,  4.89it/s]\n"
     ]
    },
    {
     "name": "stdout",
     "output_type": "stream",
     "text": [
      "Transforming autoregressive outputs into audio..\n"
     ]
    },
    {
     "name": "stderr",
     "output_type": "stream",
     "text": [
      "100%|██████████| 80/80 [00:04<00:00, 16.05it/s]\n"
     ]
    },
    {
     "name": "stdout",
     "output_type": "stream",
     "text": [
      "Saved to ../workspace/data/presenters/52384_221223_emma.wav\n",
      "----------------------------\n",
      "voice preset: tom \n",
      " Anna, I don't think Santa belongs out there in rough ocean. Plus, can you imagine reindeers adapting to life at sea? \n",
      "\n",
      "Generating autoregressive samples..\n"
     ]
    },
    {
     "name": "stderr",
     "output_type": "stream",
     "text": [
      "100%|██████████| 6/6 [00:26<00:00,  4.45s/it]\n"
     ]
    },
    {
     "name": "stdout",
     "output_type": "stream",
     "text": [
      "Computing best candidates using CLVP\n"
     ]
    },
    {
     "name": "stderr",
     "output_type": "stream",
     "text": [
      "100%|██████████| 6/6 [00:01<00:00,  4.89it/s]\n"
     ]
    },
    {
     "name": "stdout",
     "output_type": "stream",
     "text": [
      "Transforming autoregressive outputs into audio..\n"
     ]
    },
    {
     "name": "stderr",
     "output_type": "stream",
     "text": [
      "100%|██████████| 80/80 [00:04<00:00, 16.17it/s]\n"
     ]
    },
    {
     "name": "stdout",
     "output_type": "stream",
     "text": [
      "Saved to ../workspace/data/presenters/52412_221223_tom.wav\n",
      "----------------------------\n",
      "voice preset: emma \n",
      " Well, maybe they could learn to swim and dive. And Santa could use his magic to keep them safe from the dangers of the deep. \n",
      "\n",
      "Generating autoregressive samples..\n"
     ]
    },
    {
     "name": "stderr",
     "output_type": "stream",
     "text": [
      "100%|██████████| 6/6 [00:26<00:00,  4.44s/it]\n"
     ]
    },
    {
     "name": "stdout",
     "output_type": "stream",
     "text": [
      "Computing best candidates using CLVP\n"
     ]
    },
    {
     "name": "stderr",
     "output_type": "stream",
     "text": [
      "100%|██████████| 6/6 [00:01<00:00,  4.91it/s]\n"
     ]
    },
    {
     "name": "stdout",
     "output_type": "stream",
     "text": [
      "Transforming autoregressive outputs into audio..\n"
     ]
    },
    {
     "name": "stderr",
     "output_type": "stream",
     "text": [
      "100%|██████████| 80/80 [00:04<00:00, 16.28it/s]\n"
     ]
    },
    {
     "name": "stdout",
     "output_type": "stream",
     "text": [
      "Saved to ../workspace/data/presenters/52451_221223_emma.wav\n",
      "----------------------------\n",
      "voice preset: tom \n",
      " Anna, I don't think that's a good idea. Santa is all about giving and spreading joy, while pirates are all about taking and causing fear. \n",
      "\n",
      "Generating autoregressive samples..\n"
     ]
    },
    {
     "name": "stderr",
     "output_type": "stream",
     "text": [
      "100%|██████████| 6/6 [00:34<00:00,  5.82s/it]\n"
     ]
    },
    {
     "name": "stdout",
     "output_type": "stream",
     "text": [
      "Computing best candidates using CLVP\n"
     ]
    },
    {
     "name": "stderr",
     "output_type": "stream",
     "text": [
      "100%|██████████| 6/6 [00:01<00:00,  4.89it/s]\n"
     ]
    },
    {
     "name": "stdout",
     "output_type": "stream",
     "text": [
      "Transforming autoregressive outputs into audio..\n"
     ]
    },
    {
     "name": "stderr",
     "output_type": "stream",
     "text": [
      "100%|██████████| 80/80 [00:08<00:00,  9.52it/s]\n"
     ]
    },
    {
     "name": "stdout",
     "output_type": "stream",
     "text": [
      "Saved to ../workspace/data/presenters/52490_221223_tom.wav\n",
      "----------------------------\n",
      "voice preset: emma \n",
      " Well, that's what I think, Phillip. What do you think? \n",
      "\n",
      "Generating autoregressive samples..\n"
     ]
    },
    {
     "name": "stderr",
     "output_type": "stream",
     "text": [
      "100%|██████████| 6/6 [00:13<00:00,  2.20s/it]\n"
     ]
    },
    {
     "name": "stdout",
     "output_type": "stream",
     "text": [
      "Computing best candidates using CLVP\n"
     ]
    },
    {
     "name": "stderr",
     "output_type": "stream",
     "text": [
      "100%|██████████| 6/6 [00:01<00:00,  4.94it/s]\n"
     ]
    },
    {
     "name": "stdout",
     "output_type": "stream",
     "text": [
      "Transforming autoregressive outputs into audio..\n"
     ]
    },
    {
     "name": "stderr",
     "output_type": "stream",
     "text": [
      "100%|██████████| 80/80 [00:04<00:00, 16.64it/s]\n"
     ]
    },
    {
     "name": "stdout",
     "output_type": "stream",
     "text": [
      "Saved to ../workspace/data/presenters/52541_221223_emma.wav\n",
      "----------------------------\n",
      "voice preset: tom \n",
      " Anna, I think we should wrap this up. It's been a fun conversation, but I think it's time for us to go our separate ways. \n",
      "\n",
      "Generating autoregressive samples..\n"
     ]
    },
    {
     "name": "stderr",
     "output_type": "stream",
     "text": [
      "100%|██████████| 6/6 [00:26<00:00,  4.45s/it]\n"
     ]
    },
    {
     "name": "stdout",
     "output_type": "stream",
     "text": [
      "Computing best candidates using CLVP\n"
     ]
    },
    {
     "name": "stderr",
     "output_type": "stream",
     "text": [
      "100%|██████████| 6/6 [00:01<00:00,  4.93it/s]\n"
     ]
    },
    {
     "name": "stdout",
     "output_type": "stream",
     "text": [
      "Transforming autoregressive outputs into audio..\n"
     ]
    },
    {
     "name": "stderr",
     "output_type": "stream",
     "text": [
      "100%|██████████| 80/80 [00:04<00:00, 16.29it/s]\n"
     ]
    },
    {
     "name": "stdout",
     "output_type": "stream",
     "text": [
      "Saved to ../workspace/data/presenters/52566_221223_tom.wav\n",
      "----------------------------\n",
      "voice preset: emma \n",
      " Okay, Phillip. Let's close the program. Stockastic Pirates, signing off. \n",
      "\n",
      "Generating autoregressive samples..\n"
     ]
    },
    {
     "name": "stderr",
     "output_type": "stream",
     "text": [
      "100%|██████████| 6/6 [00:15<00:00,  2.56s/it]\n"
     ]
    },
    {
     "name": "stdout",
     "output_type": "stream",
     "text": [
      "Computing best candidates using CLVP\n"
     ]
    },
    {
     "name": "stderr",
     "output_type": "stream",
     "text": [
      "100%|██████████| 6/6 [00:01<00:00,  4.93it/s]\n"
     ]
    },
    {
     "name": "stdout",
     "output_type": "stream",
     "text": [
      "Transforming autoregressive outputs into audio..\n"
     ]
    },
    {
     "name": "stderr",
     "output_type": "stream",
     "text": [
      "100%|██████████| 80/80 [00:04<00:00, 16.36it/s]\n"
     ]
    },
    {
     "name": "stdout",
     "output_type": "stream",
     "text": [
      "Saved to ../workspace/data/presenters/52605_221223_emma.wav\n"
     ]
    }
   ],
   "source": [
    "#Split text into two sections dictionary, one for Anna and one for Phillip\n",
    "lines = final_text.split('\\n')\n",
    "\n",
    "# Flag to determine the current speaker\n",
    "current_speaker = None\n",
    "\n",
    "# Iterate through lines and populate dictionaries\n",
    "for line in lines:\n",
    "    if line.startswith(\"Anna:\"):\n",
    "        current_speaker = \"emma\" #this is the voice name in the dataset\n",
    "        text = line[len(\"anna:\"):].strip()\n",
    "        audioGeneration(current_speaker, text, preset)\n",
    "        \n",
    "    elif line.startswith(\"Phillip:\"):\n",
    "        current_speaker = \"tom\" #this is the voice name in the dataset\n",
    "        text = line[len(\"phillip:\"):].strip()\n",
    "        audioGeneration(current_speaker, text, preset)"
   ]
  },
  {
   "cell_type": "code",
   "execution_count": null,
   "metadata": {},
   "outputs": [],
   "source": [
    "import os\n",
    "\n",
    "folder_path = \"/workspace/data/presenters/\"\n",
    "\n",
    "# Get a list of all files in the folder\n",
    "file_names = [f for f in os.listdir(folder_path) if os.path.isfile(os.path.join(folder_path, f))]\n",
    "\n",
    "# Print the list of file names\n",
    "# print(\"File names in the folder:\")\n",
    "# for file_name in file_names:\n",
    "#     print(file_name)"
   ]
  },
  {
   "cell_type": "code",
   "execution_count": null,
   "metadata": {},
   "outputs": [
    {
     "data": {
      "text/plain": [
       "<_io.BufferedRandom name='../workspace/data/rendered_audio/concatenated_output_1.mp3'>"
      ]
     },
     "execution_count": 19,
     "metadata": {},
     "output_type": "execute_result"
    }
   ],
   "source": [
    "from pydub import AudioSegment\n",
    "from pydub.effects import normalize\n",
    "from pydub.effects import compress_dynamic_range\n",
    "\n",
    "sourceFolder = \"../workspace/data/rendered_audio/\"\n",
    "threshold = -20.0  # Adjust the compression threshold (in dBFS) as needed\n",
    "ratio = 4.0  # Adjust the compression ratio as needed\n",
    "\n",
    "audio_segment = AudioSegment.silent(duration=0)\n",
    "# Create an empty audio segment to hold the concatenated audio\n",
    "concatenated_audio = AudioSegment.silent(duration=4000)\n",
    "\n",
    "# Iterate through each audio file and concatenate it\n",
    "for file in file_names:\n",
    "    audio_segment = AudioSegment.from_file(folder_path+file, format=\"wav\")\n",
    "    # Apply dynamic range compression\n",
    "    audio_segment = compress_dynamic_range(audio_segment, threshold=threshold, ratio=ratio)\n",
    "    # Normalize the audio to increase volume\n",
    "    audio_segment = normalize(audio_segment)\n",
    "    concatenated_audio += audio_segment\n",
    "\n",
    "# Export the concatenated audio to a new file\n",
    "concatenated_audio.export(sourceFolder+\"concatenated_output_1.mp3\", format=\"wav\")"
   ]
  },
  {
   "cell_type": "code",
   "execution_count": null,
   "metadata": {},
   "outputs": [
    {
     "data": {
      "text/plain": [
       "<_io.BufferedRandom name='../workspace/data/audio_background/new_background.mp3'>"
      ]
     },
     "execution_count": 20,
     "metadata": {},
     "output_type": "execute_result"
    }
   ],
   "source": [
    "pathBackground = \"../workspace/data/audio_background/\"\n",
    "\n",
    "# Load your audio tracks\n",
    "track0 = AudioSegment.from_file(pathBackground+\"opening_news.mp3\", format=\"mp3\")\n",
    "track1 = AudioSegment.from_file(pathBackground+\"Pop.mp3\", format=\"mp3\")\n",
    "track2 = AudioSegment.from_file(pathBackground+\"japanese_pop.mp3\", format=\"mp3\")\n",
    "track3 = AudioSegment.from_file(pathBackground+\"cumbia_3.mp3\", format=\"mp3\")\n",
    "\n",
    "# Add the tracks together\n",
    "combined_track = track0 + track1 + track2 + track3 + track0\n",
    "\n",
    "# Reduce the volume to half with a ramp of 1 second after 2 seconds\n",
    "ramp_duration = 2000  # 1 second in milliseconds\n",
    "start_time = 2000  # 2 seconds in milliseconds\n",
    "\n",
    "# Extract the part of the audio before the volume reduction\n",
    "audio_before_ramp = combined_track[:start_time]\n",
    "\n",
    "# Extract the part of the audio during the volume reduction and apply fade-out\n",
    "audio_ramp = combined_track[start_time:start_time + ramp_duration].fade_out(ramp_duration)\n",
    "\n",
    "# Extract the part of the audio after the volume reduction\n",
    "audio_after_ramp = combined_track[start_time + ramp_duration:]\n",
    "\n",
    "# Decrease the gain by 12 dB to reduce volume to half\n",
    "audio_half_volume = audio_after_ramp - 12\n",
    "\n",
    "# Combine the audio segments\n",
    "final_audio = audio_before_ramp + audio_ramp + audio_half_volume \n",
    "\n",
    "# Export the modified audio to a new file\n",
    "final_audio.export(pathBackground+\"new_background.mp3\", format=\"mp3\")"
   ]
  },
  {
   "cell_type": "code",
   "execution_count": null,
   "metadata": {},
   "outputs": [
    {
     "name": "stdout",
     "output_type": "stream",
     "text": [
      "../workspace/data/rendered_audio/52708_221223_mixed_output.mp3\n"
     ]
    }
   ],
   "source": [
    "# Mix the background music with the conversation\n",
    "background_music = AudioSegment.from_file(pathBackground+\"new_background.mp3\", format=\"mp3\")\n",
    "\n",
    "mixed_audio = concatenated_audio.overlay(background_music)  # Add more overlay calls for additional tracks\n",
    "# Export the mixed audio to a new file\n",
    "time = getCurrentTime()\n",
    "fileName = sourceFolder+time+\"_mixed_output.mp3\"\n",
    "mixed_audio.export(fileName, format=\"wav\")\n",
    "print(fileName)"
   ]
  },
  {
   "cell_type": "markdown",
   "metadata": {},
   "source": [
    "#### Playing with formats and presets in Mistral"
   ]
  },
  {
   "cell_type": "code",
   "execution_count": null,
   "metadata": {},
   "outputs": [
    {
     "name": "stderr",
     "output_type": "stream",
     "text": [
      "ggml_cuda_set_main_device: using device 0 (NVIDIA GeForce RTX 3090) as main device\n",
      "Number of tokens (513) exceeded maximum context length (512).\n",
      "Number of tokens (514) exceeded maximum context length (512).\n",
      "Number of tokens (515) exceeded maximum context length (512).\n",
      "Number of tokens (516) exceeded maximum context length (512).\n",
      "Number of tokens (517) exceeded maximum context length (512).\n",
      "Number of tokens (518) exceeded maximum context length (512).\n",
      "Number of tokens (519) exceeded maximum context length (512).\n",
      "Number of tokens (520) exceeded maximum context length (512).\n",
      "Number of tokens (521) exceeded maximum context length (512).\n",
      "Number of tokens (522) exceeded maximum context length (512).\n",
      "Number of tokens (523) exceeded maximum context length (512).\n",
      "Number of tokens (524) exceeded maximum context length (512).\n",
      "Number of tokens (525) exceeded maximum context length (512).\n",
      "Number of tokens (526) exceeded maximum context length (512).\n",
      "Number of tokens (527) exceeded maximum context length (512).\n",
      "Number of tokens (528) exceeded maximum context length (512).\n",
      "Number of tokens (529) exceeded maximum context length (512).\n",
      "Number of tokens (530) exceeded maximum context length (512).\n",
      "Number of tokens (531) exceeded maximum context length (512).\n",
      "Number of tokens (532) exceeded maximum context length (512).\n",
      "Number of tokens (533) exceeded maximum context length (512).\n",
      "Number of tokens (534) exceeded maximum context length (512).\n",
      "Number of tokens (535) exceeded maximum context length (512).\n",
      "Number of tokens (536) exceeded maximum context length (512).\n",
      "Number of tokens (537) exceeded maximum context length (512).\n",
      "Number of tokens (538) exceeded maximum context length (512).\n",
      "Number of tokens (539) exceeded maximum context length (512).\n",
      "Number of tokens (540) exceeded maximum context length (512).\n",
      "Number of tokens (541) exceeded maximum context length (512).\n",
      "Number of tokens (542) exceeded maximum context length (512).\n",
      "Number of tokens (543) exceeded maximum context length (512).\n",
      "Number of tokens (544) exceeded maximum context length (512).\n",
      "Number of tokens (545) exceeded maximum context length (512).\n",
      "Number of tokens (546) exceeded maximum context length (512).\n",
      "Number of tokens (547) exceeded maximum context length (512).\n",
      "Number of tokens (548) exceeded maximum context length (512).\n",
      "Number of tokens (549) exceeded maximum context length (512).\n",
      "Number of tokens (550) exceeded maximum context length (512).\n",
      "Number of tokens (551) exceeded maximum context length (512).\n",
      "Number of tokens (552) exceeded maximum context length (512).\n",
      "Number of tokens (553) exceeded maximum context length (512).\n",
      "Number of tokens (554) exceeded maximum context length (512).\n",
      "Number of tokens (555) exceeded maximum context length (512).\n",
      "Number of tokens (556) exceeded maximum context length (512).\n",
      "Number of tokens (557) exceeded maximum context length (512).\n",
      "Number of tokens (558) exceeded maximum context length (512).\n",
      "Number of tokens (559) exceeded maximum context length (512).\n",
      "Number of tokens (560) exceeded maximum context length (512).\n",
      "Number of tokens (561) exceeded maximum context length (512).\n",
      "Number of tokens (562) exceeded maximum context length (512).\n",
      "Number of tokens (563) exceeded maximum context length (512).\n",
      "Number of tokens (564) exceeded maximum context length (512).\n",
      "Number of tokens (565) exceeded maximum context length (512).\n",
      "Number of tokens (566) exceeded maximum context length (512).\n",
      "Number of tokens (567) exceeded maximum context length (512).\n",
      "Number of tokens (568) exceeded maximum context length (512).\n",
      "Number of tokens (569) exceeded maximum context length (512).\n",
      "Number of tokens (570) exceeded maximum context length (512).\n",
      "Number of tokens (571) exceeded maximum context length (512).\n",
      "Number of tokens (572) exceeded maximum context length (512).\n",
      "Number of tokens (573) exceeded maximum context length (512).\n",
      "Number of tokens (574) exceeded maximum context length (512).\n",
      "Number of tokens (575) exceeded maximum context length (512).\n",
      "Number of tokens (576) exceeded maximum context length (512).\n",
      "Number of tokens (577) exceeded maximum context length (512).\n",
      "Number of tokens (578) exceeded maximum context length (512).\n",
      "Number of tokens (579) exceeded maximum context length (512).\n",
      "Number of tokens (580) exceeded maximum context length (512).\n",
      "Number of tokens (581) exceeded maximum context length (512).\n",
      "Number of tokens (582) exceeded maximum context length (512).\n",
      "Number of tokens (583) exceeded maximum context length (512).\n",
      "Number of tokens (584) exceeded maximum context length (512).\n",
      "Number of tokens (585) exceeded maximum context length (512).\n",
      "Number of tokens (586) exceeded maximum context length (512).\n",
      "Number of tokens (587) exceeded maximum context length (512).\n",
      "Number of tokens (588) exceeded maximum context length (512).\n",
      "Number of tokens (589) exceeded maximum context length (512).\n",
      "Number of tokens (590) exceeded maximum context length (512).\n",
      "Number of tokens (591) exceeded maximum context length (512).\n",
      "Number of tokens (592) exceeded maximum context length (512).\n",
      "Number of tokens (593) exceeded maximum context length (512).\n",
      "Number of tokens (594) exceeded maximum context length (512).\n",
      "Number of tokens (595) exceeded maximum context length (512).\n",
      "Number of tokens (596) exceeded maximum context length (512).\n",
      "Number of tokens (597) exceeded maximum context length (512).\n",
      "Number of tokens (598) exceeded maximum context length (512).\n",
      "Number of tokens (599) exceeded maximum context length (512).\n",
      "Number of tokens (600) exceeded maximum context length (512).\n",
      "Number of tokens (601) exceeded maximum context length (512).\n",
      "Number of tokens (602) exceeded maximum context length (512).\n",
      "Number of tokens (603) exceeded maximum context length (512).\n",
      "Number of tokens (604) exceeded maximum context length (512).\n",
      "Number of tokens (605) exceeded maximum context length (512).\n",
      "Number of tokens (606) exceeded maximum context length (512).\n",
      "Number of tokens (607) exceeded maximum context length (512).\n",
      "Number of tokens (608) exceeded maximum context length (512).\n",
      "Number of tokens (609) exceeded maximum context length (512).\n",
      "Number of tokens (610) exceeded maximum context length (512).\n",
      "Number of tokens (611) exceeded maximum context length (512).\n",
      "Number of tokens (612) exceeded maximum context length (512).\n",
      "Number of tokens (613) exceeded maximum context length (512).\n",
      "Number of tokens (614) exceeded maximum context length (512).\n",
      "Number of tokens (615) exceeded maximum context length (512).\n",
      "Number of tokens (616) exceeded maximum context length (512).\n",
      "Number of tokens (617) exceeded maximum context length (512).\n",
      "Number of tokens (618) exceeded maximum context length (512).\n",
      "Number of tokens (619) exceeded maximum context length (512).\n",
      "Number of tokens (620) exceeded maximum context length (512).\n",
      "Number of tokens (621) exceeded maximum context length (512).\n",
      "Number of tokens (622) exceeded maximum context length (512).\n",
      "Number of tokens (623) exceeded maximum context length (512).\n",
      "Number of tokens (624) exceeded maximum context length (512).\n",
      "Number of tokens (625) exceeded maximum context length (512).\n",
      "Number of tokens (626) exceeded maximum context length (512).\n",
      "Number of tokens (627) exceeded maximum context length (512).\n",
      "Number of tokens (628) exceeded maximum context length (512).\n",
      "Number of tokens (629) exceeded maximum context length (512).\n",
      "Number of tokens (630) exceeded maximum context length (512).\n",
      "Number of tokens (631) exceeded maximum context length (512).\n",
      "Number of tokens (632) exceeded maximum context length (512).\n",
      "Number of tokens (633) exceeded maximum context length (512).\n",
      "Number of tokens (634) exceeded maximum context length (512).\n",
      "Number of tokens (635) exceeded maximum context length (512).\n",
      "Number of tokens (636) exceeded maximum context length (512).\n",
      "Number of tokens (637) exceeded maximum context length (512).\n",
      "Number of tokens (638) exceeded maximum context length (512).\n",
      "Number of tokens (639) exceeded maximum context length (512).\n",
      "Number of tokens (640) exceeded maximum context length (512).\n",
      "Number of tokens (641) exceeded maximum context length (512).\n",
      "Number of tokens (642) exceeded maximum context length (512).\n",
      "Number of tokens (643) exceeded maximum context length (512).\n",
      "Number of tokens (644) exceeded maximum context length (512).\n",
      "Number of tokens (645) exceeded maximum context length (512).\n",
      "Number of tokens (646) exceeded maximum context length (512).\n",
      "Number of tokens (647) exceeded maximum context length (512).\n",
      "Number of tokens (648) exceeded maximum context length (512).\n",
      "Number of tokens (649) exceeded maximum context length (512).\n",
      "Number of tokens (650) exceeded maximum context length (512).\n",
      "Number of tokens (651) exceeded maximum context length (512).\n",
      "Number of tokens (652) exceeded maximum context length (512).\n",
      "Number of tokens (653) exceeded maximum context length (512).\n",
      "Number of tokens (654) exceeded maximum context length (512).\n",
      "Number of tokens (655) exceeded maximum context length (512).\n",
      "Number of tokens (656) exceeded maximum context length (512).\n",
      "Number of tokens (657) exceeded maximum context length (512).\n",
      "Number of tokens (658) exceeded maximum context length (512).\n",
      "Number of tokens (659) exceeded maximum context length (512).\n",
      "Number of tokens (660) exceeded maximum context length (512).\n",
      "Number of tokens (661) exceeded maximum context length (512).\n",
      "Number of tokens (662) exceeded maximum context length (512).\n",
      "Number of tokens (663) exceeded maximum context length (512).\n",
      "Number of tokens (664) exceeded maximum context length (512).\n",
      "Number of tokens (665) exceeded maximum context length (512).\n",
      "Number of tokens (666) exceeded maximum context length (512).\n",
      "Number of tokens (667) exceeded maximum context length (512).\n",
      "Number of tokens (668) exceeded maximum context length (512).\n",
      "Number of tokens (669) exceeded maximum context length (512).\n",
      "Number of tokens (670) exceeded maximum context length (512).\n",
      "Number of tokens (671) exceeded maximum context length (512).\n",
      "Number of tokens (672) exceeded maximum context length (512).\n",
      "Number of tokens (673) exceeded maximum context length (512).\n",
      "Number of tokens (674) exceeded maximum context length (512).\n",
      "Number of tokens (675) exceeded maximum context length (512).\n",
      "Number of tokens (676) exceeded maximum context length (512).\n",
      "Number of tokens (677) exceeded maximum context length (512).\n",
      "Number of tokens (678) exceeded maximum context length (512).\n",
      "Number of tokens (679) exceeded maximum context length (512).\n",
      "Number of tokens (680) exceeded maximum context length (512).\n",
      "Number of tokens (681) exceeded maximum context length (512).\n",
      "Number of tokens (682) exceeded maximum context length (512).\n",
      "Number of tokens (683) exceeded maximum context length (512).\n",
      "Number of tokens (684) exceeded maximum context length (512).\n",
      "Number of tokens (685) exceeded maximum context length (512).\n",
      "Number of tokens (686) exceeded maximum context length (512).\n",
      "Number of tokens (687) exceeded maximum context length (512).\n",
      "Number of tokens (688) exceeded maximum context length (512).\n",
      "Number of tokens (689) exceeded maximum context length (512).\n",
      "Number of tokens (690) exceeded maximum context length (512).\n",
      "Number of tokens (691) exceeded maximum context length (512).\n",
      "Number of tokens (692) exceeded maximum context length (512).\n",
      "Number of tokens (693) exceeded maximum context length (512).\n",
      "Number of tokens (694) exceeded maximum context length (512).\n",
      "Number of tokens (695) exceeded maximum context length (512).\n",
      "Number of tokens (696) exceeded maximum context length (512).\n",
      "Number of tokens (697) exceeded maximum context length (512).\n",
      "Number of tokens (698) exceeded maximum context length (512).\n",
      "Number of tokens (699) exceeded maximum context length (512).\n",
      "Number of tokens (700) exceeded maximum context length (512).\n",
      "Number of tokens (701) exceeded maximum context length (512).\n",
      "Number of tokens (702) exceeded maximum context length (512).\n",
      "Number of tokens (703) exceeded maximum context length (512).\n",
      "Number of tokens (704) exceeded maximum context length (512).\n",
      "Number of tokens (705) exceeded maximum context length (512).\n",
      "Number of tokens (706) exceeded maximum context length (512).\n",
      "Number of tokens (707) exceeded maximum context length (512).\n",
      "Number of tokens (708) exceeded maximum context length (512).\n",
      "Number of tokens (709) exceeded maximum context length (512).\n",
      "Number of tokens (710) exceeded maximum context length (512).\n",
      "Number of tokens (711) exceeded maximum context length (512).\n",
      "Number of tokens (712) exceeded maximum context length (512).\n",
      "Number of tokens (713) exceeded maximum context length (512).\n",
      "Number of tokens (714) exceeded maximum context length (512).\n",
      "Number of tokens (715) exceeded maximum context length (512).\n",
      "Number of tokens (716) exceeded maximum context length (512).\n",
      "Number of tokens (717) exceeded maximum context length (512).\n",
      "Number of tokens (718) exceeded maximum context length (512).\n",
      "Number of tokens (719) exceeded maximum context length (512).\n",
      "Number of tokens (720) exceeded maximum context length (512).\n",
      "Number of tokens (721) exceeded maximum context length (512).\n",
      "Number of tokens (722) exceeded maximum context length (512).\n",
      "Number of tokens (723) exceeded maximum context length (512).\n",
      "Number of tokens (724) exceeded maximum context length (512).\n",
      "Number of tokens (725) exceeded maximum context length (512).\n",
      "Number of tokens (726) exceeded maximum context length (512).\n",
      "Number of tokens (727) exceeded maximum context length (512).\n",
      "Number of tokens (728) exceeded maximum context length (512).\n",
      "Number of tokens (729) exceeded maximum context length (512).\n",
      "Number of tokens (730) exceeded maximum context length (512).\n",
      "Number of tokens (731) exceeded maximum context length (512).\n",
      "Number of tokens (732) exceeded maximum context length (512).\n",
      "Number of tokens (733) exceeded maximum context length (512).\n",
      "Number of tokens (734) exceeded maximum context length (512).\n",
      "Number of tokens (735) exceeded maximum context length (512).\n",
      "Number of tokens (736) exceeded maximum context length (512).\n",
      "Number of tokens (737) exceeded maximum context length (512).\n",
      "Number of tokens (738) exceeded maximum context length (512).\n",
      "Number of tokens (739) exceeded maximum context length (512).\n",
      "Number of tokens (740) exceeded maximum context length (512).\n",
      "Number of tokens (741) exceeded maximum context length (512).\n",
      "Number of tokens (742) exceeded maximum context length (512).\n",
      "Number of tokens (743) exceeded maximum context length (512).\n",
      "Number of tokens (744) exceeded maximum context length (512).\n",
      "Number of tokens (745) exceeded maximum context length (512).\n",
      "Number of tokens (746) exceeded maximum context length (512).\n",
      "Number of tokens (747) exceeded maximum context length (512).\n",
      "Number of tokens (748) exceeded maximum context length (512).\n",
      "Number of tokens (749) exceeded maximum context length (512).\n",
      "Number of tokens (750) exceeded maximum context length (512).\n",
      "Number of tokens (751) exceeded maximum context length (512).\n",
      "Number of tokens (752) exceeded maximum context length (512).\n",
      "Number of tokens (753) exceeded maximum context length (512).\n",
      "Number of tokens (754) exceeded maximum context length (512).\n",
      "Number of tokens (755) exceeded maximum context length (512).\n",
      "Number of tokens (756) exceeded maximum context length (512).\n",
      "Number of tokens (757) exceeded maximum context length (512).\n",
      "Number of tokens (758) exceeded maximum context length (512).\n",
      "Number of tokens (759) exceeded maximum context length (512).\n",
      "Number of tokens (760) exceeded maximum context length (512).\n",
      "Number of tokens (761) exceeded maximum context length (512).\n",
      "Number of tokens (762) exceeded maximum context length (512).\n",
      "Number of tokens (763) exceeded maximum context length (512).\n",
      "Number of tokens (764) exceeded maximum context length (512).\n",
      "Number of tokens (765) exceeded maximum context length (512).\n",
      "Number of tokens (766) exceeded maximum context length (512).\n",
      "Number of tokens (767) exceeded maximum context length (512).\n",
      "Number of tokens (768) exceeded maximum context length (512).\n",
      "Number of tokens (769) exceeded maximum context length (512).\n",
      "Number of tokens (770) exceeded maximum context length (512).\n",
      "Number of tokens (771) exceeded maximum context length (512).\n",
      "Number of tokens (772) exceeded maximum context length (512).\n",
      "Number of tokens (773) exceeded maximum context length (512).\n",
      "Number of tokens (774) exceeded maximum context length (512).\n",
      "Number of tokens (775) exceeded maximum context length (512).\n",
      "Number of tokens (776) exceeded maximum context length (512).\n",
      "Number of tokens (777) exceeded maximum context length (512).\n",
      "Number of tokens (778) exceeded maximum context length (512).\n",
      "Number of tokens (779) exceeded maximum context length (512).\n",
      "Number of tokens (780) exceeded maximum context length (512).\n",
      "Number of tokens (781) exceeded maximum context length (512).\n",
      "Number of tokens (782) exceeded maximum context length (512).\n",
      "Number of tokens (783) exceeded maximum context length (512).\n",
      "Number of tokens (784) exceeded maximum context length (512).\n",
      "Number of tokens (785) exceeded maximum context length (512).\n",
      "Number of tokens (786) exceeded maximum context length (512).\n",
      "Number of tokens (787) exceeded maximum context length (512).\n",
      "Number of tokens (788) exceeded maximum context length (512).\n",
      "Number of tokens (789) exceeded maximum context length (512).\n",
      "Number of tokens (790) exceeded maximum context length (512).\n",
      "Number of tokens (791) exceeded maximum context length (512).\n",
      "Number of tokens (792) exceeded maximum context length (512).\n",
      "Number of tokens (793) exceeded maximum context length (512).\n",
      "Number of tokens (794) exceeded maximum context length (512).\n",
      "Number of tokens (795) exceeded maximum context length (512).\n",
      "Number of tokens (796) exceeded maximum context length (512).\n",
      "Number of tokens (797) exceeded maximum context length (512).\n",
      "Number of tokens (798) exceeded maximum context length (512).\n",
      "Number of tokens (799) exceeded maximum context length (512).\n",
      "Number of tokens (800) exceeded maximum context length (512).\n",
      "Number of tokens (801) exceeded maximum context length (512).\n",
      "Number of tokens (802) exceeded maximum context length (512).\n",
      "Number of tokens (803) exceeded maximum context length (512).\n",
      "Number of tokens (804) exceeded maximum context length (512).\n",
      "Number of tokens (805) exceeded maximum context length (512).\n",
      "Number of tokens (806) exceeded maximum context length (512).\n",
      "Number of tokens (807) exceeded maximum context length (512).\n",
      "Number of tokens (808) exceeded maximum context length (512).\n",
      "Number of tokens (809) exceeded maximum context length (512).\n",
      "Number of tokens (810) exceeded maximum context length (512).\n",
      "Number of tokens (811) exceeded maximum context length (512).\n",
      "Number of tokens (812) exceeded maximum context length (512).\n",
      "Number of tokens (813) exceeded maximum context length (512).\n",
      "Number of tokens (814) exceeded maximum context length (512).\n",
      "Number of tokens (815) exceeded maximum context length (512).\n",
      "Number of tokens (816) exceeded maximum context length (512).\n",
      "Number of tokens (817) exceeded maximum context length (512).\n",
      "Number of tokens (818) exceeded maximum context length (512).\n",
      "Number of tokens (819) exceeded maximum context length (512).\n",
      "Number of tokens (820) exceeded maximum context length (512).\n",
      "Number of tokens (821) exceeded maximum context length (512).\n",
      "Number of tokens (822) exceeded maximum context length (512).\n",
      "Number of tokens (823) exceeded maximum context length (512).\n",
      "Number of tokens (824) exceeded maximum context length (512).\n",
      "Number of tokens (825) exceeded maximum context length (512).\n",
      "Number of tokens (826) exceeded maximum context length (512).\n",
      "Number of tokens (827) exceeded maximum context length (512).\n",
      "Number of tokens (828) exceeded maximum context length (512).\n",
      "Number of tokens (829) exceeded maximum context length (512).\n",
      "Number of tokens (830) exceeded maximum context length (512).\n",
      "Number of tokens (831) exceeded maximum context length (512).\n",
      "Number of tokens (832) exceeded maximum context length (512).\n",
      "Number of tokens (833) exceeded maximum context length (512).\n",
      "Number of tokens (834) exceeded maximum context length (512).\n",
      "Number of tokens (835) exceeded maximum context length (512).\n",
      "Number of tokens (836) exceeded maximum context length (512).\n",
      "Number of tokens (837) exceeded maximum context length (512).\n",
      "Number of tokens (838) exceeded maximum context length (512).\n",
      "Number of tokens (839) exceeded maximum context length (512).\n",
      "Number of tokens (840) exceeded maximum context length (512).\n",
      "Number of tokens (841) exceeded maximum context length (512).\n",
      "Number of tokens (842) exceeded maximum context length (512).\n",
      "Number of tokens (843) exceeded maximum context length (512).\n",
      "Number of tokens (844) exceeded maximum context length (512).\n",
      "Number of tokens (845) exceeded maximum context length (512).\n",
      "Number of tokens (846) exceeded maximum context length (512).\n",
      "Number of tokens (847) exceeded maximum context length (512).\n",
      "Number of tokens (848) exceeded maximum context length (512).\n",
      "Number of tokens (849) exceeded maximum context length (512).\n",
      "Number of tokens (850) exceeded maximum context length (512).\n",
      "Number of tokens (851) exceeded maximum context length (512).\n",
      "Number of tokens (852) exceeded maximum context length (512).\n",
      "Number of tokens (853) exceeded maximum context length (512).\n",
      "Number of tokens (854) exceeded maximum context length (512).\n",
      "Number of tokens (855) exceeded maximum context length (512).\n",
      "Number of tokens (856) exceeded maximum context length (512).\n",
      "Number of tokens (857) exceeded maximum context length (512).\n",
      "Number of tokens (858) exceeded maximum context length (512).\n",
      "Number of tokens (859) exceeded maximum context length (512).\n",
      "Number of tokens (860) exceeded maximum context length (512).\n",
      "Number of tokens (861) exceeded maximum context length (512).\n",
      "Number of tokens (862) exceeded maximum context length (512).\n",
      "Number of tokens (863) exceeded maximum context length (512).\n",
      "Number of tokens (864) exceeded maximum context length (512).\n",
      "Number of tokens (865) exceeded maximum context length (512).\n",
      "Number of tokens (866) exceeded maximum context length (512).\n",
      "Number of tokens (867) exceeded maximum context length (512).\n",
      "Number of tokens (868) exceeded maximum context length (512).\n",
      "Number of tokens (869) exceeded maximum context length (512).\n",
      "Number of tokens (870) exceeded maximum context length (512).\n",
      "Number of tokens (871) exceeded maximum context length (512).\n",
      "Number of tokens (872) exceeded maximum context length (512).\n",
      "Number of tokens (873) exceeded maximum context length (512).\n",
      "Number of tokens (874) exceeded maximum context length (512).\n",
      "Number of tokens (875) exceeded maximum context length (512).\n",
      "Number of tokens (876) exceeded maximum context length (512).\n",
      "Number of tokens (877) exceeded maximum context length (512).\n",
      "Number of tokens (878) exceeded maximum context length (512).\n",
      "Number of tokens (879) exceeded maximum context length (512).\n",
      "Number of tokens (880) exceeded maximum context length (512).\n",
      "Number of tokens (881) exceeded maximum context length (512).\n",
      "Number of tokens (882) exceeded maximum context length (512).\n",
      "Number of tokens (883) exceeded maximum context length (512).\n",
      "Number of tokens (884) exceeded maximum context length (512).\n",
      "Number of tokens (885) exceeded maximum context length (512).\n",
      "Number of tokens (886) exceeded maximum context length (512).\n",
      "Number of tokens (887) exceeded maximum context length (512).\n",
      "Number of tokens (888) exceeded maximum context length (512).\n",
      "Number of tokens (889) exceeded maximum context length (512).\n",
      "Number of tokens (890) exceeded maximum context length (512).\n",
      "Number of tokens (891) exceeded maximum context length (512).\n",
      "Number of tokens (892) exceeded maximum context length (512).\n",
      "Number of tokens (893) exceeded maximum context length (512).\n",
      "Number of tokens (894) exceeded maximum context length (512).\n",
      "Number of tokens (895) exceeded maximum context length (512).\n",
      "Number of tokens (896) exceeded maximum context length (512).\n",
      "Number of tokens (897) exceeded maximum context length (512).\n",
      "Number of tokens (898) exceeded maximum context length (512).\n",
      "Number of tokens (899) exceeded maximum context length (512).\n",
      "Number of tokens (900) exceeded maximum context length (512).\n",
      "Number of tokens (901) exceeded maximum context length (512).\n",
      "Number of tokens (902) exceeded maximum context length (512).\n",
      "Number of tokens (903) exceeded maximum context length (512).\n",
      "Number of tokens (904) exceeded maximum context length (512).\n",
      "Number of tokens (905) exceeded maximum context length (512).\n",
      "Number of tokens (906) exceeded maximum context length (512).\n",
      "Number of tokens (907) exceeded maximum context length (512).\n",
      "Number of tokens (908) exceeded maximum context length (512).\n",
      "Number of tokens (909) exceeded maximum context length (512).\n",
      "Number of tokens (910) exceeded maximum context length (512).\n",
      "Number of tokens (911) exceeded maximum context length (512).\n",
      "Number of tokens (912) exceeded maximum context length (512).\n",
      "Number of tokens (913) exceeded maximum context length (512).\n",
      "Number of tokens (914) exceeded maximum context length (512).\n",
      "Number of tokens (915) exceeded maximum context length (512).\n",
      "Number of tokens (916) exceeded maximum context length (512).\n",
      "Number of tokens (917) exceeded maximum context length (512).\n",
      "Number of tokens (918) exceeded maximum context length (512).\n",
      "Number of tokens (919) exceeded maximum context length (512).\n",
      "Number of tokens (920) exceeded maximum context length (512).\n",
      "Number of tokens (921) exceeded maximum context length (512).\n",
      "Number of tokens (922) exceeded maximum context length (512).\n",
      "Number of tokens (923) exceeded maximum context length (512).\n",
      "Number of tokens (924) exceeded maximum context length (512).\n",
      "Number of tokens (925) exceeded maximum context length (512).\n",
      "Number of tokens (926) exceeded maximum context length (512).\n",
      "Number of tokens (927) exceeded maximum context length (512).\n",
      "Number of tokens (928) exceeded maximum context length (512).\n",
      "Number of tokens (929) exceeded maximum context length (512).\n",
      "Number of tokens (930) exceeded maximum context length (512).\n",
      "Number of tokens (931) exceeded maximum context length (512).\n",
      "Number of tokens (932) exceeded maximum context length (512).\n",
      "Number of tokens (933) exceeded maximum context length (512).\n",
      "Number of tokens (934) exceeded maximum context length (512).\n",
      "Number of tokens (935) exceeded maximum context length (512).\n",
      "Number of tokens (936) exceeded maximum context length (512).\n",
      "Number of tokens (937) exceeded maximum context length (512).\n",
      "Number of tokens (938) exceeded maximum context length (512).\n",
      "Number of tokens (939) exceeded maximum context length (512).\n",
      "Number of tokens (940) exceeded maximum context length (512).\n",
      "Number of tokens (941) exceeded maximum context length (512).\n",
      "Number of tokens (942) exceeded maximum context length (512).\n",
      "Number of tokens (943) exceeded maximum context length (512).\n",
      "Number of tokens (944) exceeded maximum context length (512).\n",
      "Number of tokens (945) exceeded maximum context length (512).\n",
      "Number of tokens (946) exceeded maximum context length (512).\n",
      "Number of tokens (947) exceeded maximum context length (512).\n",
      "Number of tokens (948) exceeded maximum context length (512).\n",
      "Number of tokens (949) exceeded maximum context length (512).\n",
      "Number of tokens (950) exceeded maximum context length (512).\n",
      "Number of tokens (951) exceeded maximum context length (512).\n",
      "Number of tokens (952) exceeded maximum context length (512).\n",
      "Number of tokens (953) exceeded maximum context length (512).\n",
      "Number of tokens (954) exceeded maximum context length (512).\n",
      "Number of tokens (955) exceeded maximum context length (512).\n",
      "Number of tokens (956) exceeded maximum context length (512).\n",
      "Number of tokens (957) exceeded maximum context length (512).\n",
      "Number of tokens (958) exceeded maximum context length (512).\n",
      "Number of tokens (959) exceeded maximum context length (512).\n",
      "Number of tokens (960) exceeded maximum context length (512).\n",
      "Number of tokens (961) exceeded maximum context length (512).\n",
      "Number of tokens (962) exceeded maximum context length (512).\n",
      "Number of tokens (963) exceeded maximum context length (512).\n",
      "Number of tokens (964) exceeded maximum context length (512).\n",
      "Number of tokens (965) exceeded maximum context length (512).\n",
      "Number of tokens (966) exceeded maximum context length (512).\n",
      "Number of tokens (967) exceeded maximum context length (512).\n",
      "Number of tokens (968) exceeded maximum context length (512).\n",
      "Number of tokens (969) exceeded maximum context length (512).\n",
      "Number of tokens (970) exceeded maximum context length (512).\n",
      "Number of tokens (971) exceeded maximum context length (512).\n",
      "Number of tokens (972) exceeded maximum context length (512).\n",
      "Number of tokens (973) exceeded maximum context length (512).\n",
      "Number of tokens (974) exceeded maximum context length (512).\n",
      "Number of tokens (975) exceeded maximum context length (512).\n",
      "Number of tokens (976) exceeded maximum context length (512).\n",
      "Number of tokens (977) exceeded maximum context length (512).\n",
      "Number of tokens (978) exceeded maximum context length (512).\n",
      "Number of tokens (979) exceeded maximum context length (512).\n",
      "Number of tokens (980) exceeded maximum context length (512).\n",
      "Number of tokens (981) exceeded maximum context length (512).\n",
      "Number of tokens (982) exceeded maximum context length (512).\n",
      "Number of tokens (983) exceeded maximum context length (512).\n",
      "Number of tokens (984) exceeded maximum context length (512).\n",
      "Number of tokens (985) exceeded maximum context length (512).\n",
      "Number of tokens (986) exceeded maximum context length (512).\n",
      "Number of tokens (987) exceeded maximum context length (512).\n",
      "Number of tokens (988) exceeded maximum context length (512).\n",
      "Number of tokens (989) exceeded maximum context length (512).\n",
      "Number of tokens (990) exceeded maximum context length (512).\n",
      "Number of tokens (991) exceeded maximum context length (512).\n",
      "Number of tokens (992) exceeded maximum context length (512).\n",
      "Number of tokens (993) exceeded maximum context length (512).\n",
      "Number of tokens (994) exceeded maximum context length (512).\n",
      "Number of tokens (995) exceeded maximum context length (512).\n",
      "Number of tokens (996) exceeded maximum context length (512).\n",
      "Number of tokens (997) exceeded maximum context length (512).\n",
      "Number of tokens (998) exceeded maximum context length (512).\n",
      "Number of tokens (999) exceeded maximum context length (512).\n",
      "Number of tokens (1000) exceeded maximum context length (512).\n",
      "Number of tokens (1001) exceeded maximum context length (512).\n",
      "Number of tokens (1002) exceeded maximum context length (512).\n",
      "Number of tokens (1003) exceeded maximum context length (512).\n",
      "Number of tokens (1004) exceeded maximum context length (512).\n",
      "Number of tokens (1005) exceeded maximum context length (512).\n"
     ]
    },
    {
     "name": "stdout",
     "output_type": "stream",
     "text": [
      " revolutionize the way we interact with machines, and it’s already happening. From virtual assistants like Siri and Alexa to self-driving cars and intelligent robots, AI is changing the world as we know it. And this technology has even bigger things in store for us, from automating tedious tasks to enhancing our senses. In fact, according to IBM Watson Chief Science Officer Eric Topolovits, by 2023 AI could replace two out of three IT workers worldwide.\n",
      "\n",
      "But as AI becomes more prevalent in our daily lives, it’s important to understand how it works and what its potential implications are. Let’s take a closer look at some of the ways AI is being used today, and what we can expect from this technology in the future.\n",
      "\n",
      "1. Virtual Assistants: One of the most common uses of AI today is virtual assistants like Siri and Alexa. These digital assistants are powered by natural language processing algorithms that enable them to understand human speech and respond with relevant information. They can perform tasks such as setting reminders, sending messages, and even answering questions about the weather or news.\n",
      "\n",
      "2. Self-Driving Cars: Another area where AI is making a big impact is transportation. Self-driving cars are already being developed by companies like Tesla and Uber. These cars use a combination of cameras, sensors, and computer vision algorithms to detect objects around them and make driving decisions in real time.\n",
      "\n",
      "3. Intelligent Robots: AI is also being used to create intelligent robots that can perform tasks autonomously or with minimal human intervention. For example, robots are being developed for use in healthcare settings, where they can assist with surgeries, monitor patients, and even dispense medication.\n",
      "\n",
      "4. Automated Tasks: AI is also being used to automate tedious tasks like data entry and customer service. This can free up valuable time for workers to focus on more important tasks, such as creative problem-solving or strategic planning.\n",
      "\n",
      "5. Enhanced Senses: Finally, AI has the potential to enhance our senses in ways that we might not have imagined possible. For example, there are already smart glasses being developed that can detect temperature and humidity levels, as well as provide real-time translation capabilities.\n",
      "\n",
      "Overall, AI is a powerful technology that has the potential to transform many aspects of our lives. As we use cases of. While it’ from healthcare, from transportation, from healthcare, from healthcare, from healthcare, from transportation, from transportation, from transportation, from transportation, from transportation, from transportation, from transportation, from transportation, from transportation, from transportation, from transportation, from healthcare, from healthcare, from healthcare, from healthcare, from healthcare, from healthcare, from healthcare, from healthcare, from healthcare, from healthcare, from healthcare, from healthcare, from healthcare, from healthcare, from healthcare, from healthcare, from healthcare, from healthcare, from healthcare, from healthcare, from healthcare, from transportation, from healthcare, from healthcare, from healthcare, from healthcare, from healthcare, from healthcare, from healthcare, from transportation, from transportation, from transportation, from transportation, from transportation, from transportation, from transportation, from transportation, from transportation, from transportation, from transportation, from transportation, from transportation, from transportation, from transportation, from transportation, from transportation, from transportation, from transportation, from transportation, from transportation, from healthcare, from healthcare, from healthcare, from healthcare, from healthcare, from healthcare, from healthcare, from healthcare, from healthcare, from healthcare, from healthcare, from healthcare, from healthcare, from healthcare, from healthcare, from healthcare, from healthcare, from healthcare, from healthcare, from healthcare, from healthcare, from healthcare, from healthcare, from healthcare, from healthcare, from healthcare, from healthcare, from healthcare, from healthcare, from healthcare, from transportation, from transportation, from transportation, from transportation, from transportation, from transportation, from transportation, from transportation, from transportation, from transportation, from healthcare, from healthcare, from healthcare, from healthcare, from healthcare, from healthcare, from healthcare, from healthcare, from healthcare, from healthcare, from healthcare, from healthcare, from healthcare, from healthcare, from healthcare, from healthcare, from healthcare, from healthcare, from healthcare, from healthcare, from healthcare, from healthcare, from healthcare, from healthcare, from healthcare, from healthcare, from healthcare, from healthcare, from healthcare, from healthcare, from healthcare, from healthcare, from healthcare, from healthcare, from healthcare, from healthcare, from healthcare, from healthcare, from healthcare, from healthcare, from healthcare, from transportation, from healthcare, from healthcare, from healthcare, from healthcare, from healthcare, from healthcare, from healthcare, from healthcare, from healthcare, from healthcare, from healthcare, from healthcare, from healthcare, from\n"
     ]
    }
   ],
   "source": [
    "from ctransformers import AutoModelForCausalLM\n",
    "\n",
    "# Set gpu_layers to the number of layers to offload to GPU. Set to 0 if no GPU acceleration is available on your system.\n",
    "llm = AutoModelForCausalLM.from_pretrained(\"/workspace/data/mistral_model/mistral-7b-instruct-v0.1.Q4_K_M.gguf\", model_file=\"mistral-7b-instruct-v0.1.Q4_K_M.gguf\", model_type=\"mistral\", gpu_layers=50)\n",
    "\n",
    "print(llm(\"AI is going to\", stream=False, max_new_tokens=1000))"
   ]
  },
  {
   "cell_type": "code",
   "execution_count": 10,
   "metadata": {},
   "outputs": [],
   "source": [
    "from ctransformers import AutoModelForCausalLM\n",
    "\n",
    "async def callback(contents: str):\n",
    "    llms = {}\n",
    "    if \"mistral\" not in llms:\n",
    "        llms[\"mistral\"] = AutoModelForCausalLM.from_pretrained(\n",
    "            \"TheBloke/Mistral-7B-Instruct-v0.1-GGUF\",\n",
    "            model_file=\"mistral-7b-instruct-v0.1.Q4_K_M.gguf\",\n",
    "            gpu_layers=1,\n",
    "        )\n",
    "\n",
    "    llm = llms[\"mistral\"]\n",
    "    response = llm(contents, stream=True, max_new_tokens=1000)\n",
    "    message = \"\"\n",
    "    for token in response:\n",
    "        message += token\n",
    "        yield message"
   ]
  },
  {
   "cell_type": "code",
   "execution_count": 12,
   "metadata": {},
   "outputs": [
    {
     "name": "stderr",
     "output_type": "stream",
     "text": [
      "Fetching 1 files: 100%|██████████| 1/1 [00:00<00:00, 7121.06it/s]\n",
      "Fetching 1 files: 100%|██████████| 1/1 [00:00<00:00, 6689.48it/s]\n",
      "ggml_cuda_set_main_device: using device 0 (NVIDIA GeForce RTX 3090) as main device\n"
     ]
    },
    {
     "name": "stdout",
     "output_type": "stream",
     "text": [
      " change\n",
      " change everything\n",
      " change everything about\n",
      " change everything about us\n",
      " change everything about us and\n",
      " change everything about us and we\n",
      " change everything about us and we can\n",
      " change everything about us and we can choose\n",
      " change everything about us and we can choose what\n",
      " change everything about us and we can choose what direction\n",
      " change everything about us and we can choose what direction this\n",
      " change everything about us and we can choose what direction this change\n",
      " change everything about us and we can choose what direction this change will\n",
      " change everything about us and we can choose what direction this change will take\n",
      " change everything about us and we can choose what direction this change will take.\n",
      " change everything about us and we can choose what direction this change will take.\n",
      "\n",
      " change everything about us and we can choose what direction this change will take.\n",
      "\n",
      "\n",
      " change everything about us and we can choose what direction this change will take.\n",
      "\n",
      "The\n",
      " change everything about us and we can choose what direction this change will take.\n",
      "\n",
      "The future\n",
      " change everything about us and we can choose what direction this change will take.\n",
      "\n",
      "The future of\n",
      " change everything about us and we can choose what direction this change will take.\n",
      "\n",
      "The future of technology\n",
      " change everything about us and we can choose what direction this change will take.\n",
      "\n",
      "The future of technology has\n",
      " change everything about us and we can choose what direction this change will take.\n",
      "\n",
      "The future of technology has the\n",
      " change everything about us and we can choose what direction this change will take.\n",
      "\n",
      "The future of technology has the potential\n",
      " change everything about us and we can choose what direction this change will take.\n",
      "\n",
      "The future of technology has the potential to\n",
      " change everything about us and we can choose what direction this change will take.\n",
      "\n",
      "The future of technology has the potential to make\n",
      " change everything about us and we can choose what direction this change will take.\n",
      "\n",
      "The future of technology has the potential to make or\n",
      " change everything about us and we can choose what direction this change will take.\n",
      "\n",
      "The future of technology has the potential to make or break\n",
      " change everything about us and we can choose what direction this change will take.\n",
      "\n",
      "The future of technology has the potential to make or break society\n",
      " change everything about us and we can choose what direction this change will take.\n",
      "\n",
      "The future of technology has the potential to make or break society,\n",
      " change everything about us and we can choose what direction this change will take.\n",
      "\n",
      "The future of technology has the potential to make or break society, and\n",
      " change everything about us and we can choose what direction this change will take.\n",
      "\n",
      "The future of technology has the potential to make or break society, and it\n",
      " change everything about us and we can choose what direction this change will take.\n",
      "\n",
      "The future of technology has the potential to make or break society, and it’s\n",
      " change everything about us and we can choose what direction this change will take.\n",
      "\n",
      "The future of technology has the potential to make or break society, and it’s up\n",
      " change everything about us and we can choose what direction this change will take.\n",
      "\n",
      "The future of technology has the potential to make or break society, and it’s up to\n",
      " change everything about us and we can choose what direction this change will take.\n",
      "\n",
      "The future of technology has the potential to make or break society, and it’s up to us\n",
      " change everything about us and we can choose what direction this change will take.\n",
      "\n",
      "The future of technology has the potential to make or break society, and it’s up to us to\n",
      " change everything about us and we can choose what direction this change will take.\n",
      "\n",
      "The future of technology has the potential to make or break society, and it’s up to us to determine\n",
      " change everything about us and we can choose what direction this change will take.\n",
      "\n",
      "The future of technology has the potential to make or break society, and it’s up to us to determine what\n",
      " change everything about us and we can choose what direction this change will take.\n",
      "\n",
      "The future of technology has the potential to make or break society, and it’s up to us to determine what direction\n",
      " change everything about us and we can choose what direction this change will take.\n",
      "\n",
      "The future of technology has the potential to make or break society, and it’s up to us to determine what direction we\n",
      " change everything about us and we can choose what direction this change will take.\n",
      "\n",
      "The future of technology has the potential to make or break society, and it’s up to us to determine what direction we want\n",
      " change everything about us and we can choose what direction this change will take.\n",
      "\n",
      "The future of technology has the potential to make or break society, and it’s up to us to determine what direction we want this\n",
      " change everything about us and we can choose what direction this change will take.\n",
      "\n",
      "The future of technology has the potential to make or break society, and it’s up to us to determine what direction we want this path\n",
      " change everything about us and we can choose what direction this change will take.\n",
      "\n",
      "The future of technology has the potential to make or break society, and it’s up to us to determine what direction we want this path to\n",
      " change everything about us and we can choose what direction this change will take.\n",
      "\n",
      "The future of technology has the potential to make or break society, and it’s up to us to determine what direction we want this path to lead\n",
      " change everything about us and we can choose what direction this change will take.\n",
      "\n",
      "The future of technology has the potential to make or break society, and it’s up to us to determine what direction we want this path to lead.\n",
      " change everything about us and we can choose what direction this change will take.\n",
      "\n",
      "The future of technology has the potential to make or break society, and it’s up to us to determine what direction we want this path to lead. As\n",
      " change everything about us and we can choose what direction this change will take.\n",
      "\n",
      "The future of technology has the potential to make or break society, and it’s up to us to determine what direction we want this path to lead. As we\n",
      " change everything about us and we can choose what direction this change will take.\n",
      "\n",
      "The future of technology has the potential to make or break society, and it’s up to us to determine what direction we want this path to lead. As we continue\n",
      " change everything about us and we can choose what direction this change will take.\n",
      "\n",
      "The future of technology has the potential to make or break society, and it’s up to us to determine what direction we want this path to lead. As we continue to\n",
      " change everything about us and we can choose what direction this change will take.\n",
      "\n",
      "The future of technology has the potential to make or break society, and it’s up to us to determine what direction we want this path to lead. As we continue to develop\n",
      " change everything about us and we can choose what direction this change will take.\n",
      "\n",
      "The future of technology has the potential to make or break society, and it’s up to us to determine what direction we want this path to lead. As we continue to develop and\n",
      " change everything about us and we can choose what direction this change will take.\n",
      "\n",
      "The future of technology has the potential to make or break society, and it’s up to us to determine what direction we want this path to lead. As we continue to develop and ev\n",
      " change everything about us and we can choose what direction this change will take.\n",
      "\n",
      "The future of technology has the potential to make or break society, and it’s up to us to determine what direction we want this path to lead. As we continue to develop and evolve\n",
      " change everything about us and we can choose what direction this change will take.\n",
      "\n",
      "The future of technology has the potential to make or break society, and it’s up to us to determine what direction we want this path to lead. As we continue to develop and evolve,\n",
      " change everything about us and we can choose what direction this change will take.\n",
      "\n",
      "The future of technology has the potential to make or break society, and it’s up to us to determine what direction we want this path to lead. As we continue to develop and evolve, it\n",
      " change everything about us and we can choose what direction this change will take.\n",
      "\n",
      "The future of technology has the potential to make or break society, and it’s up to us to determine what direction we want this path to lead. As we continue to develop and evolve, it’s\n",
      " change everything about us and we can choose what direction this change will take.\n",
      "\n",
      "The future of technology has the potential to make or break society, and it’s up to us to determine what direction we want this path to lead. As we continue to develop and evolve, it’s important\n",
      " change everything about us and we can choose what direction this change will take.\n",
      "\n",
      "The future of technology has the potential to make or break society, and it’s up to us to determine what direction we want this path to lead. As we continue to develop and evolve, it’s important to\n",
      " change everything about us and we can choose what direction this change will take.\n",
      "\n",
      "The future of technology has the potential to make or break society, and it’s up to us to determine what direction we want this path to lead. As we continue to develop and evolve, it’s important to consider\n",
      " change everything about us and we can choose what direction this change will take.\n",
      "\n",
      "The future of technology has the potential to make or break society, and it’s up to us to determine what direction we want this path to lead. As we continue to develop and evolve, it’s important to consider the\n",
      " change everything about us and we can choose what direction this change will take.\n",
      "\n",
      "The future of technology has the potential to make or break society, and it’s up to us to determine what direction we want this path to lead. As we continue to develop and evolve, it’s important to consider the ethical\n",
      " change everything about us and we can choose what direction this change will take.\n",
      "\n",
      "The future of technology has the potential to make or break society, and it’s up to us to determine what direction we want this path to lead. As we continue to develop and evolve, it’s important to consider the ethical implications\n",
      " change everything about us and we can choose what direction this change will take.\n",
      "\n",
      "The future of technology has the potential to make or break society, and it’s up to us to determine what direction we want this path to lead. As we continue to develop and evolve, it’s important to consider the ethical implications of\n",
      " change everything about us and we can choose what direction this change will take.\n",
      "\n",
      "The future of technology has the potential to make or break society, and it’s up to us to determine what direction we want this path to lead. As we continue to develop and evolve, it’s important to consider the ethical implications of our\n",
      " change everything about us and we can choose what direction this change will take.\n",
      "\n",
      "The future of technology has the potential to make or break society, and it’s up to us to determine what direction we want this path to lead. As we continue to develop and evolve, it’s important to consider the ethical implications of our actions\n",
      " change everything about us and we can choose what direction this change will take.\n",
      "\n",
      "The future of technology has the potential to make or break society, and it’s up to us to determine what direction we want this path to lead. As we continue to develop and evolve, it’s important to consider the ethical implications of our actions and\n",
      " change everything about us and we can choose what direction this change will take.\n",
      "\n",
      "The future of technology has the potential to make or break society, and it’s up to us to determine what direction we want this path to lead. As we continue to develop and evolve, it’s important to consider the ethical implications of our actions and stri\n",
      " change everything about us and we can choose what direction this change will take.\n",
      "\n",
      "The future of technology has the potential to make or break society, and it’s up to us to determine what direction we want this path to lead. As we continue to develop and evolve, it’s important to consider the ethical implications of our actions and strive\n",
      " change everything about us and we can choose what direction this change will take.\n",
      "\n",
      "The future of technology has the potential to make or break society, and it’s up to us to determine what direction we want this path to lead. As we continue to develop and evolve, it’s important to consider the ethical implications of our actions and strive for\n",
      " change everything about us and we can choose what direction this change will take.\n",
      "\n",
      "The future of technology has the potential to make or break society, and it’s up to us to determine what direction we want this path to lead. As we continue to develop and evolve, it’s important to consider the ethical implications of our actions and strive for a\n",
      " change everything about us and we can choose what direction this change will take.\n",
      "\n",
      "The future of technology has the potential to make or break society, and it’s up to us to determine what direction we want this path to lead. As we continue to develop and evolve, it’s important to consider the ethical implications of our actions and strive for a future\n",
      " change everything about us and we can choose what direction this change will take.\n",
      "\n",
      "The future of technology has the potential to make or break society, and it’s up to us to determine what direction we want this path to lead. As we continue to develop and evolve, it’s important to consider the ethical implications of our actions and strive for a future that\n",
      " change everything about us and we can choose what direction this change will take.\n",
      "\n",
      "The future of technology has the potential to make or break society, and it’s up to us to determine what direction we want this path to lead. As we continue to develop and evolve, it’s important to consider the ethical implications of our actions and strive for a future that benefits\n",
      " change everything about us and we can choose what direction this change will take.\n",
      "\n",
      "The future of technology has the potential to make or break society, and it’s up to us to determine what direction we want this path to lead. As we continue to develop and evolve, it’s important to consider the ethical implications of our actions and strive for a future that benefits everyone\n",
      " change everything about us and we can choose what direction this change will take.\n",
      "\n",
      "The future of technology has the potential to make or break society, and it’s up to us to determine what direction we want this path to lead. As we continue to develop and evolve, it’s important to consider the ethical implications of our actions and strive for a future that benefits everyone equally\n",
      " change everything about us and we can choose what direction this change will take.\n",
      "\n",
      "The future of technology has the potential to make or break society, and it’s up to us to determine what direction we want this path to lead. As we continue to develop and evolve, it’s important to consider the ethical implications of our actions and strive for a future that benefits everyone equally.\n",
      " change everything about us and we can choose what direction this change will take.\n",
      "\n",
      "The future of technology has the potential to make or break society, and it’s up to us to determine what direction we want this path to lead. As we continue to develop and evolve, it’s important to consider the ethical implications of our actions and strive for a future that benefits everyone equally. We\n",
      " change everything about us and we can choose what direction this change will take.\n",
      "\n",
      "The future of technology has the potential to make or break society, and it’s up to us to determine what direction we want this path to lead. As we continue to develop and evolve, it’s important to consider the ethical implications of our actions and strive for a future that benefits everyone equally. We must\n",
      " change everything about us and we can choose what direction this change will take.\n",
      "\n",
      "The future of technology has the potential to make or break society, and it’s up to us to determine what direction we want this path to lead. As we continue to develop and evolve, it’s important to consider the ethical implications of our actions and strive for a future that benefits everyone equally. We must work\n",
      " change everything about us and we can choose what direction this change will take.\n",
      "\n",
      "The future of technology has the potential to make or break society, and it’s up to us to determine what direction we want this path to lead. As we continue to develop and evolve, it’s important to consider the ethical implications of our actions and strive for a future that benefits everyone equally. We must work together\n",
      " change everything about us and we can choose what direction this change will take.\n",
      "\n",
      "The future of technology has the potential to make or break society, and it’s up to us to determine what direction we want this path to lead. As we continue to develop and evolve, it’s important to consider the ethical implications of our actions and strive for a future that benefits everyone equally. We must work together to\n",
      " change everything about us and we can choose what direction this change will take.\n",
      "\n",
      "The future of technology has the potential to make or break society, and it’s up to us to determine what direction we want this path to lead. As we continue to develop and evolve, it’s important to consider the ethical implications of our actions and strive for a future that benefits everyone equally. We must work together to ensure\n",
      " change everything about us and we can choose what direction this change will take.\n",
      "\n",
      "The future of technology has the potential to make or break society, and it’s up to us to determine what direction we want this path to lead. As we continue to develop and evolve, it’s important to consider the ethical implications of our actions and strive for a future that benefits everyone equally. We must work together to ensure that\n",
      " change everything about us and we can choose what direction this change will take.\n",
      "\n",
      "The future of technology has the potential to make or break society, and it’s up to us to determine what direction we want this path to lead. As we continue to develop and evolve, it’s important to consider the ethical implications of our actions and strive for a future that benefits everyone equally. We must work together to ensure that AI\n",
      " change everything about us and we can choose what direction this change will take.\n",
      "\n",
      "The future of technology has the potential to make or break society, and it’s up to us to determine what direction we want this path to lead. As we continue to develop and evolve, it’s important to consider the ethical implications of our actions and strive for a future that benefits everyone equally. We must work together to ensure that AI is\n",
      " change everything about us and we can choose what direction this change will take.\n",
      "\n",
      "The future of technology has the potential to make or break society, and it’s up to us to determine what direction we want this path to lead. As we continue to develop and evolve, it’s important to consider the ethical implications of our actions and strive for a future that benefits everyone equally. We must work together to ensure that AI is used\n",
      " change everything about us and we can choose what direction this change will take.\n",
      "\n",
      "The future of technology has the potential to make or break society, and it’s up to us to determine what direction we want this path to lead. As we continue to develop and evolve, it’s important to consider the ethical implications of our actions and strive for a future that benefits everyone equally. We must work together to ensure that AI is used in\n",
      " change everything about us and we can choose what direction this change will take.\n",
      "\n",
      "The future of technology has the potential to make or break society, and it’s up to us to determine what direction we want this path to lead. As we continue to develop and evolve, it’s important to consider the ethical implications of our actions and strive for a future that benefits everyone equally. We must work together to ensure that AI is used in a\n",
      " change everything about us and we can choose what direction this change will take.\n",
      "\n",
      "The future of technology has the potential to make or break society, and it’s up to us to determine what direction we want this path to lead. As we continue to develop and evolve, it’s important to consider the ethical implications of our actions and strive for a future that benefits everyone equally. We must work together to ensure that AI is used in a responsible\n",
      " change everything about us and we can choose what direction this change will take.\n",
      "\n",
      "The future of technology has the potential to make or break society, and it’s up to us to determine what direction we want this path to lead. As we continue to develop and evolve, it’s important to consider the ethical implications of our actions and strive for a future that benefits everyone equally. We must work together to ensure that AI is used in a responsible and\n",
      " change everything about us and we can choose what direction this change will take.\n",
      "\n",
      "The future of technology has the potential to make or break society, and it’s up to us to determine what direction we want this path to lead. As we continue to develop and evolve, it’s important to consider the ethical implications of our actions and strive for a future that benefits everyone equally. We must work together to ensure that AI is used in a responsible and sustainable\n",
      " change everything about us and we can choose what direction this change will take.\n",
      "\n",
      "The future of technology has the potential to make or break society, and it’s up to us to determine what direction we want this path to lead. As we continue to develop and evolve, it’s important to consider the ethical implications of our actions and strive for a future that benefits everyone equally. We must work together to ensure that AI is used in a responsible and sustainable way\n",
      " change everything about us and we can choose what direction this change will take.\n",
      "\n",
      "The future of technology has the potential to make or break society, and it’s up to us to determine what direction we want this path to lead. As we continue to develop and evolve, it’s important to consider the ethical implications of our actions and strive for a future that benefits everyone equally. We must work together to ensure that AI is used in a responsible and sustainable way,\n",
      " change everything about us and we can choose what direction this change will take.\n",
      "\n",
      "The future of technology has the potential to make or break society, and it’s up to us to determine what direction we want this path to lead. As we continue to develop and evolve, it’s important to consider the ethical implications of our actions and strive for a future that benefits everyone equally. We must work together to ensure that AI is used in a responsible and sustainable way, so\n",
      " change everything about us and we can choose what direction this change will take.\n",
      "\n",
      "The future of technology has the potential to make or break society, and it’s up to us to determine what direction we want this path to lead. As we continue to develop and evolve, it’s important to consider the ethical implications of our actions and strive for a future that benefits everyone equally. We must work together to ensure that AI is used in a responsible and sustainable way, so that\n",
      " change everything about us and we can choose what direction this change will take.\n",
      "\n",
      "The future of technology has the potential to make or break society, and it’s up to us to determine what direction we want this path to lead. As we continue to develop and evolve, it’s important to consider the ethical implications of our actions and strive for a future that benefits everyone equally. We must work together to ensure that AI is used in a responsible and sustainable way, so that it\n",
      " change everything about us and we can choose what direction this change will take.\n",
      "\n",
      "The future of technology has the potential to make or break society, and it’s up to us to determine what direction we want this path to lead. As we continue to develop and evolve, it’s important to consider the ethical implications of our actions and strive for a future that benefits everyone equally. We must work together to ensure that AI is used in a responsible and sustainable way, so that it can\n",
      " change everything about us and we can choose what direction this change will take.\n",
      "\n",
      "The future of technology has the potential to make or break society, and it’s up to us to determine what direction we want this path to lead. As we continue to develop and evolve, it’s important to consider the ethical implications of our actions and strive for a future that benefits everyone equally. We must work together to ensure that AI is used in a responsible and sustainable way, so that it can help\n",
      " change everything about us and we can choose what direction this change will take.\n",
      "\n",
      "The future of technology has the potential to make or break society, and it’s up to us to determine what direction we want this path to lead. As we continue to develop and evolve, it’s important to consider the ethical implications of our actions and strive for a future that benefits everyone equally. We must work together to ensure that AI is used in a responsible and sustainable way, so that it can help us\n",
      " change everything about us and we can choose what direction this change will take.\n",
      "\n",
      "The future of technology has the potential to make or break society, and it’s up to us to determine what direction we want this path to lead. As we continue to develop and evolve, it’s important to consider the ethical implications of our actions and strive for a future that benefits everyone equally. We must work together to ensure that AI is used in a responsible and sustainable way, so that it can help us overcome\n",
      " change everything about us and we can choose what direction this change will take.\n",
      "\n",
      "The future of technology has the potential to make or break society, and it’s up to us to determine what direction we want this path to lead. As we continue to develop and evolve, it’s important to consider the ethical implications of our actions and strive for a future that benefits everyone equally. We must work together to ensure that AI is used in a responsible and sustainable way, so that it can help us overcome challenges\n",
      " change everything about us and we can choose what direction this change will take.\n",
      "\n",
      "The future of technology has the potential to make or break society, and it’s up to us to determine what direction we want this path to lead. As we continue to develop and evolve, it’s important to consider the ethical implications of our actions and strive for a future that benefits everyone equally. We must work together to ensure that AI is used in a responsible and sustainable way, so that it can help us overcome challenges and\n",
      " change everything about us and we can choose what direction this change will take.\n",
      "\n",
      "The future of technology has the potential to make or break society, and it’s up to us to determine what direction we want this path to lead. As we continue to develop and evolve, it’s important to consider the ethical implications of our actions and strive for a future that benefits everyone equally. We must work together to ensure that AI is used in a responsible and sustainable way, so that it can help us overcome challenges and create\n",
      " change everything about us and we can choose what direction this change will take.\n",
      "\n",
      "The future of technology has the potential to make or break society, and it’s up to us to determine what direction we want this path to lead. As we continue to develop and evolve, it’s important to consider the ethical implications of our actions and strive for a future that benefits everyone equally. We must work together to ensure that AI is used in a responsible and sustainable way, so that it can help us overcome challenges and create a\n",
      " change everything about us and we can choose what direction this change will take.\n",
      "\n",
      "The future of technology has the potential to make or break society, and it’s up to us to determine what direction we want this path to lead. As we continue to develop and evolve, it’s important to consider the ethical implications of our actions and strive for a future that benefits everyone equally. We must work together to ensure that AI is used in a responsible and sustainable way, so that it can help us overcome challenges and create a better\n",
      " change everything about us and we can choose what direction this change will take.\n",
      "\n",
      "The future of technology has the potential to make or break society, and it’s up to us to determine what direction we want this path to lead. As we continue to develop and evolve, it’s important to consider the ethical implications of our actions and strive for a future that benefits everyone equally. We must work together to ensure that AI is used in a responsible and sustainable way, so that it can help us overcome challenges and create a better world\n",
      " change everything about us and we can choose what direction this change will take.\n",
      "\n",
      "The future of technology has the potential to make or break society, and it’s up to us to determine what direction we want this path to lead. As we continue to develop and evolve, it’s important to consider the ethical implications of our actions and strive for a future that benefits everyone equally. We must work together to ensure that AI is used in a responsible and sustainable way, so that it can help us overcome challenges and create a better world for\n",
      " change everything about us and we can choose what direction this change will take.\n",
      "\n",
      "The future of technology has the potential to make or break society, and it’s up to us to determine what direction we want this path to lead. As we continue to develop and evolve, it’s important to consider the ethical implications of our actions and strive for a future that benefits everyone equally. We must work together to ensure that AI is used in a responsible and sustainable way, so that it can help us overcome challenges and create a better world for all\n",
      " change everything about us and we can choose what direction this change will take.\n",
      "\n",
      "The future of technology has the potential to make or break society, and it’s up to us to determine what direction we want this path to lead. As we continue to develop and evolve, it’s important to consider the ethical implications of our actions and strive for a future that benefits everyone equally. We must work together to ensure that AI is used in a responsible and sustainable way, so that it can help us overcome challenges and create a better world for all.\n"
     ]
    }
   ],
   "source": [
    "t = callback(\"AI is going to\")\n",
    "async for value in t:\n",
    "    print(value)"
   ]
  }
 ],
 "metadata": {
  "accelerator": "GPU",
  "colab": {
   "collapsed_sections": [],
   "name": "tortoise-tts.ipynb",
   "provenance": []
  },
  "kernelspec": {
   "display_name": "Python 3",
   "language": "python",
   "name": "python3"
  },
  "language_info": {
   "codemirror_mode": {
    "name": "ipython",
    "version": 3
   },
   "file_extension": ".py",
   "mimetype": "text/x-python",
   "name": "python",
   "nbconvert_exporter": "python",
   "pygments_lexer": "ipython3",
   "version": "3.9.18"
  }
 },
 "nbformat": 4,
 "nbformat_minor": 4
}
